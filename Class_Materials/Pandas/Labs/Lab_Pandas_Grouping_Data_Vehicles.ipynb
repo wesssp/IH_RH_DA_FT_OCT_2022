{
 "cells": [
  {
   "cell_type": "markdown",
   "metadata": {
    "id": "N1YkD9XI6Fg3"
   },
   "source": [
    "# Pandas: grouping"
   ]
  },
  {
   "cell_type": "code",
   "execution_count": 1,
   "metadata": {
    "executionInfo": {
     "elapsed": 4,
     "status": "ok",
     "timestamp": 1623140082185,
     "user": {
      "displayName": "Ignacio Soteras",
      "photoUrl": "",
      "userId": "02050793736257155229"
     },
     "user_tz": -120
    },
    "id": "jL4kjGt66Fg5"
   },
   "outputs": [],
   "source": [
    "import pandas as pd\n",
    "import numpy as np"
   ]
  },
  {
   "cell_type": "code",
   "execution_count": 2,
   "metadata": {
    "executionInfo": {
     "elapsed": 1346,
     "status": "ok",
     "timestamp": 1623140174431,
     "user": {
      "displayName": "Ignacio Soteras",
      "photoUrl": "",
      "userId": "02050793736257155229"
     },
     "user_tz": -120
    },
    "id": "GVHPs2Qa6Fg5"
   },
   "outputs": [],
   "source": [
    "cars = pd.read_csv(\"data/vehicles.csv\")"
   ]
  },
  {
   "cell_type": "code",
   "execution_count": 3,
   "metadata": {
    "colab": {
     "base_uri": "https://localhost:8080/",
     "height": 477
    },
    "executionInfo": {
     "elapsed": 233,
     "status": "ok",
     "timestamp": 1623140176638,
     "user": {
      "displayName": "Ignacio Soteras",
      "photoUrl": "",
      "userId": "02050793736257155229"
     },
     "user_tz": -120
    },
    "id": "DseSH7qIPmxQ",
    "outputId": "9954b7e3-8541-4e16-cbce-b5828784b91e"
   },
   "outputs": [
    {
     "data": {
      "text/html": [
       "<div>\n",
       "<style scoped>\n",
       "    .dataframe tbody tr th:only-of-type {\n",
       "        vertical-align: middle;\n",
       "    }\n",
       "\n",
       "    .dataframe tbody tr th {\n",
       "        vertical-align: top;\n",
       "    }\n",
       "\n",
       "    .dataframe thead th {\n",
       "        text-align: right;\n",
       "    }\n",
       "</style>\n",
       "<table border=\"1\" class=\"dataframe\">\n",
       "  <thead>\n",
       "    <tr style=\"text-align: right;\">\n",
       "      <th></th>\n",
       "      <th>Make</th>\n",
       "      <th>Model</th>\n",
       "      <th>Year</th>\n",
       "      <th>Engine Displacement</th>\n",
       "      <th>Cylinders</th>\n",
       "      <th>Transmission</th>\n",
       "      <th>Drivetrain</th>\n",
       "      <th>Vehicle Class</th>\n",
       "      <th>Fuel Type</th>\n",
       "      <th>Fuel Barrels/Year</th>\n",
       "      <th>City MPG</th>\n",
       "      <th>Highway MPG</th>\n",
       "      <th>Combined MPG</th>\n",
       "      <th>CO2 Emission Grams/Mile</th>\n",
       "      <th>Fuel Cost/Year</th>\n",
       "    </tr>\n",
       "  </thead>\n",
       "  <tbody>\n",
       "    <tr>\n",
       "      <th>0</th>\n",
       "      <td>AM General</td>\n",
       "      <td>DJ Po Vehicle 2WD</td>\n",
       "      <td>1984</td>\n",
       "      <td>2.5</td>\n",
       "      <td>4.0</td>\n",
       "      <td>Automatic 3-spd</td>\n",
       "      <td>2-Wheel Drive</td>\n",
       "      <td>Special Purpose Vehicle 2WD</td>\n",
       "      <td>Regular</td>\n",
       "      <td>19.388824</td>\n",
       "      <td>18</td>\n",
       "      <td>17</td>\n",
       "      <td>17</td>\n",
       "      <td>522.764706</td>\n",
       "      <td>1950</td>\n",
       "    </tr>\n",
       "    <tr>\n",
       "      <th>1</th>\n",
       "      <td>AM General</td>\n",
       "      <td>FJ8c Post Office</td>\n",
       "      <td>1984</td>\n",
       "      <td>4.2</td>\n",
       "      <td>6.0</td>\n",
       "      <td>Automatic 3-spd</td>\n",
       "      <td>2-Wheel Drive</td>\n",
       "      <td>Special Purpose Vehicle 2WD</td>\n",
       "      <td>Regular</td>\n",
       "      <td>25.354615</td>\n",
       "      <td>13</td>\n",
       "      <td>13</td>\n",
       "      <td>13</td>\n",
       "      <td>683.615385</td>\n",
       "      <td>2550</td>\n",
       "    </tr>\n",
       "    <tr>\n",
       "      <th>2</th>\n",
       "      <td>AM General</td>\n",
       "      <td>Post Office DJ5 2WD</td>\n",
       "      <td>1985</td>\n",
       "      <td>2.5</td>\n",
       "      <td>4.0</td>\n",
       "      <td>Automatic 3-spd</td>\n",
       "      <td>Rear-Wheel Drive</td>\n",
       "      <td>Special Purpose Vehicle 2WD</td>\n",
       "      <td>Regular</td>\n",
       "      <td>20.600625</td>\n",
       "      <td>16</td>\n",
       "      <td>17</td>\n",
       "      <td>16</td>\n",
       "      <td>555.437500</td>\n",
       "      <td>2100</td>\n",
       "    </tr>\n",
       "    <tr>\n",
       "      <th>3</th>\n",
       "      <td>AM General</td>\n",
       "      <td>Post Office DJ8 2WD</td>\n",
       "      <td>1985</td>\n",
       "      <td>4.2</td>\n",
       "      <td>6.0</td>\n",
       "      <td>Automatic 3-spd</td>\n",
       "      <td>Rear-Wheel Drive</td>\n",
       "      <td>Special Purpose Vehicle 2WD</td>\n",
       "      <td>Regular</td>\n",
       "      <td>25.354615</td>\n",
       "      <td>13</td>\n",
       "      <td>13</td>\n",
       "      <td>13</td>\n",
       "      <td>683.615385</td>\n",
       "      <td>2550</td>\n",
       "    </tr>\n",
       "    <tr>\n",
       "      <th>4</th>\n",
       "      <td>ASC Incorporated</td>\n",
       "      <td>GNX</td>\n",
       "      <td>1987</td>\n",
       "      <td>3.8</td>\n",
       "      <td>6.0</td>\n",
       "      <td>Automatic 4-spd</td>\n",
       "      <td>Rear-Wheel Drive</td>\n",
       "      <td>Midsize Cars</td>\n",
       "      <td>Premium</td>\n",
       "      <td>20.600625</td>\n",
       "      <td>14</td>\n",
       "      <td>21</td>\n",
       "      <td>16</td>\n",
       "      <td>555.437500</td>\n",
       "      <td>2550</td>\n",
       "    </tr>\n",
       "  </tbody>\n",
       "</table>\n",
       "</div>"
      ],
      "text/plain": [
       "               Make                Model  Year  Engine Displacement  \\\n",
       "0        AM General    DJ Po Vehicle 2WD  1984                  2.5   \n",
       "1        AM General     FJ8c Post Office  1984                  4.2   \n",
       "2        AM General  Post Office DJ5 2WD  1985                  2.5   \n",
       "3        AM General  Post Office DJ8 2WD  1985                  4.2   \n",
       "4  ASC Incorporated                  GNX  1987                  3.8   \n",
       "\n",
       "   Cylinders     Transmission        Drivetrain                Vehicle Class  \\\n",
       "0        4.0  Automatic 3-spd     2-Wheel Drive  Special Purpose Vehicle 2WD   \n",
       "1        6.0  Automatic 3-spd     2-Wheel Drive  Special Purpose Vehicle 2WD   \n",
       "2        4.0  Automatic 3-spd  Rear-Wheel Drive  Special Purpose Vehicle 2WD   \n",
       "3        6.0  Automatic 3-spd  Rear-Wheel Drive  Special Purpose Vehicle 2WD   \n",
       "4        6.0  Automatic 4-spd  Rear-Wheel Drive                 Midsize Cars   \n",
       "\n",
       "  Fuel Type  Fuel Barrels/Year  City MPG  Highway MPG  Combined MPG  \\\n",
       "0   Regular          19.388824        18           17            17   \n",
       "1   Regular          25.354615        13           13            13   \n",
       "2   Regular          20.600625        16           17            16   \n",
       "3   Regular          25.354615        13           13            13   \n",
       "4   Premium          20.600625        14           21            16   \n",
       "\n",
       "   CO2 Emission Grams/Mile  Fuel Cost/Year  \n",
       "0               522.764706            1950  \n",
       "1               683.615385            2550  \n",
       "2               555.437500            2100  \n",
       "3               683.615385            2550  \n",
       "4               555.437500            2550  "
      ]
     },
     "execution_count": 3,
     "metadata": {},
     "output_type": "execute_result"
    }
   ],
   "source": [
    "cars.head()"
   ]
  },
  {
   "cell_type": "markdown",
   "metadata": {
    "id": "7sOaJJT_fSx2"
   },
   "source": [
    "How many Car models? "
   ]
  },
  {
   "cell_type": "code",
   "execution_count": 4,
   "metadata": {
    "colab": {
     "base_uri": "https://localhost:8080/"
    },
    "executionInfo": {
     "elapsed": 249,
     "status": "ok",
     "timestamp": 1623143296731,
     "user": {
      "displayName": "Ignacio Soteras",
      "photoUrl": "",
      "userId": "02050793736257155229"
     },
     "user_tz": -120
    },
    "id": "w_2EOD5efUOS",
    "outputId": "7b643b35-7639-4033-e882-69996dc301d8"
   },
   "outputs": [
    {
     "data": {
      "text/plain": [
       "3608"
      ]
     },
     "execution_count": 4,
     "metadata": {},
     "output_type": "execute_result"
    }
   ],
   "source": [
    "### your code is here\n",
    "len(cars[\"Model\"].unique())"
   ]
  },
  {
   "cell_type": "markdown",
   "metadata": {},
   "source": [
    "group by the data by the Make  using count function"
   ]
  },
  {
   "cell_type": "code",
   "execution_count": 5,
   "metadata": {
    "colab": {
     "base_uri": "https://localhost:8080/",
     "height": 544
    },
    "executionInfo": {
     "elapsed": 233,
     "status": "ok",
     "timestamp": 1623143566155,
     "user": {
      "displayName": "Ignacio Soteras",
      "photoUrl": "",
      "userId": "02050793736257155229"
     },
     "user_tz": -120
    },
    "id": "OTxZXCj_48hR",
    "outputId": "b1d1078e-ab91-475e-e94b-b28619722607"
   },
   "outputs": [
    {
     "data": {
      "text/html": [
       "<div>\n",
       "<style scoped>\n",
       "    .dataframe tbody tr th:only-of-type {\n",
       "        vertical-align: middle;\n",
       "    }\n",
       "\n",
       "    .dataframe tbody tr th {\n",
       "        vertical-align: top;\n",
       "    }\n",
       "\n",
       "    .dataframe thead th {\n",
       "        text-align: right;\n",
       "    }\n",
       "</style>\n",
       "<table border=\"1\" class=\"dataframe\">\n",
       "  <thead>\n",
       "    <tr style=\"text-align: right;\">\n",
       "      <th></th>\n",
       "      <th>Model</th>\n",
       "      <th>Year</th>\n",
       "      <th>Engine Displacement</th>\n",
       "      <th>Cylinders</th>\n",
       "      <th>Transmission</th>\n",
       "      <th>Drivetrain</th>\n",
       "      <th>Vehicle Class</th>\n",
       "      <th>Fuel Type</th>\n",
       "      <th>Fuel Barrels/Year</th>\n",
       "      <th>City MPG</th>\n",
       "      <th>Highway MPG</th>\n",
       "      <th>Combined MPG</th>\n",
       "      <th>CO2 Emission Grams/Mile</th>\n",
       "      <th>Fuel Cost/Year</th>\n",
       "    </tr>\n",
       "    <tr>\n",
       "      <th>Make</th>\n",
       "      <th></th>\n",
       "      <th></th>\n",
       "      <th></th>\n",
       "      <th></th>\n",
       "      <th></th>\n",
       "      <th></th>\n",
       "      <th></th>\n",
       "      <th></th>\n",
       "      <th></th>\n",
       "      <th></th>\n",
       "      <th></th>\n",
       "      <th></th>\n",
       "      <th></th>\n",
       "      <th></th>\n",
       "    </tr>\n",
       "  </thead>\n",
       "  <tbody>\n",
       "    <tr>\n",
       "      <th>AM General</th>\n",
       "      <td>4</td>\n",
       "      <td>4</td>\n",
       "      <td>4</td>\n",
       "      <td>4</td>\n",
       "      <td>4</td>\n",
       "      <td>4</td>\n",
       "      <td>4</td>\n",
       "      <td>4</td>\n",
       "      <td>4</td>\n",
       "      <td>4</td>\n",
       "      <td>4</td>\n",
       "      <td>4</td>\n",
       "      <td>4</td>\n",
       "      <td>4</td>\n",
       "    </tr>\n",
       "    <tr>\n",
       "      <th>ASC Incorporated</th>\n",
       "      <td>1</td>\n",
       "      <td>1</td>\n",
       "      <td>1</td>\n",
       "      <td>1</td>\n",
       "      <td>1</td>\n",
       "      <td>1</td>\n",
       "      <td>1</td>\n",
       "      <td>1</td>\n",
       "      <td>1</td>\n",
       "      <td>1</td>\n",
       "      <td>1</td>\n",
       "      <td>1</td>\n",
       "      <td>1</td>\n",
       "      <td>1</td>\n",
       "    </tr>\n",
       "    <tr>\n",
       "      <th>Acura</th>\n",
       "      <td>302</td>\n",
       "      <td>302</td>\n",
       "      <td>302</td>\n",
       "      <td>302</td>\n",
       "      <td>302</td>\n",
       "      <td>302</td>\n",
       "      <td>302</td>\n",
       "      <td>302</td>\n",
       "      <td>302</td>\n",
       "      <td>302</td>\n",
       "      <td>302</td>\n",
       "      <td>302</td>\n",
       "      <td>302</td>\n",
       "      <td>302</td>\n",
       "    </tr>\n",
       "    <tr>\n",
       "      <th>Alfa Romeo</th>\n",
       "      <td>41</td>\n",
       "      <td>41</td>\n",
       "      <td>41</td>\n",
       "      <td>41</td>\n",
       "      <td>41</td>\n",
       "      <td>41</td>\n",
       "      <td>41</td>\n",
       "      <td>41</td>\n",
       "      <td>41</td>\n",
       "      <td>41</td>\n",
       "      <td>41</td>\n",
       "      <td>41</td>\n",
       "      <td>41</td>\n",
       "      <td>41</td>\n",
       "    </tr>\n",
       "    <tr>\n",
       "      <th>American Motors Corporation</th>\n",
       "      <td>22</td>\n",
       "      <td>22</td>\n",
       "      <td>22</td>\n",
       "      <td>22</td>\n",
       "      <td>22</td>\n",
       "      <td>22</td>\n",
       "      <td>22</td>\n",
       "      <td>22</td>\n",
       "      <td>22</td>\n",
       "      <td>22</td>\n",
       "      <td>22</td>\n",
       "      <td>22</td>\n",
       "      <td>22</td>\n",
       "      <td>22</td>\n",
       "    </tr>\n",
       "    <tr>\n",
       "      <th>...</th>\n",
       "      <td>...</td>\n",
       "      <td>...</td>\n",
       "      <td>...</td>\n",
       "      <td>...</td>\n",
       "      <td>...</td>\n",
       "      <td>...</td>\n",
       "      <td>...</td>\n",
       "      <td>...</td>\n",
       "      <td>...</td>\n",
       "      <td>...</td>\n",
       "      <td>...</td>\n",
       "      <td>...</td>\n",
       "      <td>...</td>\n",
       "      <td>...</td>\n",
       "    </tr>\n",
       "    <tr>\n",
       "      <th>Volkswagen</th>\n",
       "      <td>1047</td>\n",
       "      <td>1047</td>\n",
       "      <td>1047</td>\n",
       "      <td>1047</td>\n",
       "      <td>1047</td>\n",
       "      <td>1047</td>\n",
       "      <td>1047</td>\n",
       "      <td>1047</td>\n",
       "      <td>1047</td>\n",
       "      <td>1047</td>\n",
       "      <td>1047</td>\n",
       "      <td>1047</td>\n",
       "      <td>1047</td>\n",
       "      <td>1047</td>\n",
       "    </tr>\n",
       "    <tr>\n",
       "      <th>Volvo</th>\n",
       "      <td>717</td>\n",
       "      <td>717</td>\n",
       "      <td>717</td>\n",
       "      <td>717</td>\n",
       "      <td>717</td>\n",
       "      <td>717</td>\n",
       "      <td>717</td>\n",
       "      <td>717</td>\n",
       "      <td>717</td>\n",
       "      <td>717</td>\n",
       "      <td>717</td>\n",
       "      <td>717</td>\n",
       "      <td>717</td>\n",
       "      <td>717</td>\n",
       "    </tr>\n",
       "    <tr>\n",
       "      <th>Wallace Environmental</th>\n",
       "      <td>32</td>\n",
       "      <td>32</td>\n",
       "      <td>32</td>\n",
       "      <td>32</td>\n",
       "      <td>32</td>\n",
       "      <td>32</td>\n",
       "      <td>32</td>\n",
       "      <td>32</td>\n",
       "      <td>32</td>\n",
       "      <td>32</td>\n",
       "      <td>32</td>\n",
       "      <td>32</td>\n",
       "      <td>32</td>\n",
       "      <td>32</td>\n",
       "    </tr>\n",
       "    <tr>\n",
       "      <th>Yugo</th>\n",
       "      <td>8</td>\n",
       "      <td>8</td>\n",
       "      <td>8</td>\n",
       "      <td>8</td>\n",
       "      <td>8</td>\n",
       "      <td>8</td>\n",
       "      <td>8</td>\n",
       "      <td>8</td>\n",
       "      <td>8</td>\n",
       "      <td>8</td>\n",
       "      <td>8</td>\n",
       "      <td>8</td>\n",
       "      <td>8</td>\n",
       "      <td>8</td>\n",
       "    </tr>\n",
       "    <tr>\n",
       "      <th>smart</th>\n",
       "      <td>20</td>\n",
       "      <td>20</td>\n",
       "      <td>20</td>\n",
       "      <td>20</td>\n",
       "      <td>20</td>\n",
       "      <td>20</td>\n",
       "      <td>20</td>\n",
       "      <td>20</td>\n",
       "      <td>20</td>\n",
       "      <td>20</td>\n",
       "      <td>20</td>\n",
       "      <td>20</td>\n",
       "      <td>20</td>\n",
       "      <td>20</td>\n",
       "    </tr>\n",
       "  </tbody>\n",
       "</table>\n",
       "<p>127 rows × 14 columns</p>\n",
       "</div>"
      ],
      "text/plain": [
       "                             Model  Year  Engine Displacement  Cylinders  \\\n",
       "Make                                                                       \n",
       "AM General                       4     4                    4          4   \n",
       "ASC Incorporated                 1     1                    1          1   \n",
       "Acura                          302   302                  302        302   \n",
       "Alfa Romeo                      41    41                   41         41   \n",
       "American Motors Corporation     22    22                   22         22   \n",
       "...                            ...   ...                  ...        ...   \n",
       "Volkswagen                    1047  1047                 1047       1047   \n",
       "Volvo                          717   717                  717        717   \n",
       "Wallace Environmental           32    32                   32         32   \n",
       "Yugo                             8     8                    8          8   \n",
       "smart                           20    20                   20         20   \n",
       "\n",
       "                             Transmission  Drivetrain  Vehicle Class  \\\n",
       "Make                                                                   \n",
       "AM General                              4           4              4   \n",
       "ASC Incorporated                        1           1              1   \n",
       "Acura                                 302         302            302   \n",
       "Alfa Romeo                             41          41             41   \n",
       "American Motors Corporation            22          22             22   \n",
       "...                                   ...         ...            ...   \n",
       "Volkswagen                           1047        1047           1047   \n",
       "Volvo                                 717         717            717   \n",
       "Wallace Environmental                  32          32             32   \n",
       "Yugo                                    8           8              8   \n",
       "smart                                  20          20             20   \n",
       "\n",
       "                             Fuel Type  Fuel Barrels/Year  City MPG  \\\n",
       "Make                                                                  \n",
       "AM General                           4                  4         4   \n",
       "ASC Incorporated                     1                  1         1   \n",
       "Acura                              302                302       302   \n",
       "Alfa Romeo                          41                 41        41   \n",
       "American Motors Corporation         22                 22        22   \n",
       "...                                ...                ...       ...   \n",
       "Volkswagen                        1047               1047      1047   \n",
       "Volvo                              717                717       717   \n",
       "Wallace Environmental               32                 32        32   \n",
       "Yugo                                 8                  8         8   \n",
       "smart                               20                 20        20   \n",
       "\n",
       "                             Highway MPG  Combined MPG  \\\n",
       "Make                                                     \n",
       "AM General                             4             4   \n",
       "ASC Incorporated                       1             1   \n",
       "Acura                                302           302   \n",
       "Alfa Romeo                            41            41   \n",
       "American Motors Corporation           22            22   \n",
       "...                                  ...           ...   \n",
       "Volkswagen                          1047          1047   \n",
       "Volvo                                717           717   \n",
       "Wallace Environmental                 32            32   \n",
       "Yugo                                   8             8   \n",
       "smart                                 20            20   \n",
       "\n",
       "                             CO2 Emission Grams/Mile  Fuel Cost/Year  \n",
       "Make                                                                  \n",
       "AM General                                         4               4  \n",
       "ASC Incorporated                                   1               1  \n",
       "Acura                                            302             302  \n",
       "Alfa Romeo                                        41              41  \n",
       "American Motors Corporation                       22              22  \n",
       "...                                              ...             ...  \n",
       "Volkswagen                                      1047            1047  \n",
       "Volvo                                            717             717  \n",
       "Wallace Environmental                             32              32  \n",
       "Yugo                                               8               8  \n",
       "smart                                             20              20  \n",
       "\n",
       "[127 rows x 14 columns]"
      ]
     },
     "execution_count": 5,
     "metadata": {},
     "output_type": "execute_result"
    }
   ],
   "source": [
    "### your code us here\n",
    "cars.groupby(\"Make\").count()"
   ]
  },
  {
   "cell_type": "markdown",
   "metadata": {},
   "source": [
    "Converting Grams/Mile to Grams/Km\n",
    "\n",
    "1 Mile = 1.60934 Km\n",
    "\n",
    "Converting Gallons to Liters\n",
    "\n",
    "1 Gallon = 3.78541 Liters"
   ]
  },
  {
   "cell_type": "markdown",
   "metadata": {
    "id": "lJMDlBOM6Fg7"
   },
   "source": [
    "What brand has the most cars?"
   ]
  },
  {
   "cell_type": "code",
   "execution_count": 6,
   "metadata": {
    "id": "cbk5R7HL6Fg8"
   },
   "outputs": [],
   "source": [
    "### your code us here\n",
    "Mile = 1.60934\n",
    "Gallon = 3.78541\n",
    "cars[\"City MPG\"] = cars[\"City MPG\"].apply(lambda x: round(x / Gallon * Mile))\n",
    "cars[\"Highway MPG\"] = cars[\"Highway MPG\"].apply(lambda x: round(x / Gallon * Mile))\n",
    "cars[\"Combined MPG\"] = cars[\"Combined MPG\"].apply(lambda x: round(x / Gallon * Mile))"
   ]
  },
  {
   "cell_type": "code",
   "execution_count": 7,
   "metadata": {
    "id": "cbk5R7HL6Fg8"
   },
   "outputs": [],
   "source": [
    "cars.rename(columns={\"City MPG\": \"City KPL\", \"Highway MPG\": \"Highway KPL\", \"Combined MPG\": \"Combined KPL\", \"CO2 Emission Grams/Mile\": \"CO2 Emission Grams/KM\"}, inplace = True)"
   ]
  },
  {
   "cell_type": "code",
   "execution_count": 8,
   "metadata": {
    "id": "cbk5R7HL6Fg8"
   },
   "outputs": [
    {
     "data": {
      "text/html": [
       "<div>\n",
       "<style scoped>\n",
       "    .dataframe tbody tr th:only-of-type {\n",
       "        vertical-align: middle;\n",
       "    }\n",
       "\n",
       "    .dataframe tbody tr th {\n",
       "        vertical-align: top;\n",
       "    }\n",
       "\n",
       "    .dataframe thead th {\n",
       "        text-align: right;\n",
       "    }\n",
       "</style>\n",
       "<table border=\"1\" class=\"dataframe\">\n",
       "  <thead>\n",
       "    <tr style=\"text-align: right;\">\n",
       "      <th></th>\n",
       "      <th>Model</th>\n",
       "    </tr>\n",
       "    <tr>\n",
       "      <th>Make</th>\n",
       "      <th></th>\n",
       "    </tr>\n",
       "  </thead>\n",
       "  <tbody>\n",
       "    <tr>\n",
       "      <th>AM General</th>\n",
       "      <td>4</td>\n",
       "    </tr>\n",
       "    <tr>\n",
       "      <th>ASC Incorporated</th>\n",
       "      <td>1</td>\n",
       "    </tr>\n",
       "    <tr>\n",
       "      <th>Acura</th>\n",
       "      <td>302</td>\n",
       "    </tr>\n",
       "    <tr>\n",
       "      <th>Alfa Romeo</th>\n",
       "      <td>41</td>\n",
       "    </tr>\n",
       "    <tr>\n",
       "      <th>American Motors Corporation</th>\n",
       "      <td>22</td>\n",
       "    </tr>\n",
       "    <tr>\n",
       "      <th>...</th>\n",
       "      <td>...</td>\n",
       "    </tr>\n",
       "    <tr>\n",
       "      <th>Volkswagen</th>\n",
       "      <td>1047</td>\n",
       "    </tr>\n",
       "    <tr>\n",
       "      <th>Volvo</th>\n",
       "      <td>717</td>\n",
       "    </tr>\n",
       "    <tr>\n",
       "      <th>Wallace Environmental</th>\n",
       "      <td>32</td>\n",
       "    </tr>\n",
       "    <tr>\n",
       "      <th>Yugo</th>\n",
       "      <td>8</td>\n",
       "    </tr>\n",
       "    <tr>\n",
       "      <th>smart</th>\n",
       "      <td>20</td>\n",
       "    </tr>\n",
       "  </tbody>\n",
       "</table>\n",
       "<p>127 rows × 1 columns</p>\n",
       "</div>"
      ],
      "text/plain": [
       "                             Model\n",
       "Make                              \n",
       "AM General                       4\n",
       "ASC Incorporated                 1\n",
       "Acura                          302\n",
       "Alfa Romeo                      41\n",
       "American Motors Corporation     22\n",
       "...                            ...\n",
       "Volkswagen                    1047\n",
       "Volvo                          717\n",
       "Wallace Environmental           32\n",
       "Yugo                             8\n",
       "smart                           20\n",
       "\n",
       "[127 rows x 1 columns]"
      ]
     },
     "execution_count": 8,
     "metadata": {},
     "output_type": "execute_result"
    }
   ],
   "source": [
    "model_by_maker = cars.groupby(\"Make\")[[\"Model\"]].count()\n",
    "model_by_maker"
   ]
  },
  {
   "cell_type": "markdown",
   "metadata": {},
   "source": [
    "<b>show the average CO2_Emission_Grams/Km  by Brand"
   ]
  },
  {
   "cell_type": "code",
   "execution_count": 9,
   "metadata": {
    "colab": {
     "base_uri": "https://localhost:8080/",
     "height": 437
    },
    "executionInfo": {
     "elapsed": 229,
     "status": "ok",
     "timestamp": 1623145437447,
     "user": {
      "displayName": "Ignacio Soteras",
      "photoUrl": "",
      "userId": "02050793736257155229"
     },
     "user_tz": -120
    },
    "id": "QQ40-Xvcq9Rr",
    "outputId": "517ea5be-6749-4170-c56b-ec950df6f45f"
   },
   "outputs": [
    {
     "data": {
      "text/html": [
       "<div>\n",
       "<style scoped>\n",
       "    .dataframe tbody tr th:only-of-type {\n",
       "        vertical-align: middle;\n",
       "    }\n",
       "\n",
       "    .dataframe tbody tr th {\n",
       "        vertical-align: top;\n",
       "    }\n",
       "\n",
       "    .dataframe thead th {\n",
       "        text-align: right;\n",
       "    }\n",
       "</style>\n",
       "<table border=\"1\" class=\"dataframe\">\n",
       "  <thead>\n",
       "    <tr style=\"text-align: right;\">\n",
       "      <th></th>\n",
       "      <th>CO2 Emission Grams/KM</th>\n",
       "    </tr>\n",
       "    <tr>\n",
       "      <th>Make</th>\n",
       "      <th></th>\n",
       "    </tr>\n",
       "  </thead>\n",
       "  <tbody>\n",
       "    <tr>\n",
       "      <th>AM General</th>\n",
       "      <td>380.000000</td>\n",
       "    </tr>\n",
       "    <tr>\n",
       "      <th>ASC Incorporated</th>\n",
       "      <td>345.000000</td>\n",
       "    </tr>\n",
       "    <tr>\n",
       "      <th>Acura</th>\n",
       "      <td>262.619205</td>\n",
       "    </tr>\n",
       "    <tr>\n",
       "      <th>Alfa Romeo</th>\n",
       "      <td>288.439024</td>\n",
       "    </tr>\n",
       "    <tr>\n",
       "      <th>American Motors Corporation</th>\n",
       "      <td>314.363636</td>\n",
       "    </tr>\n",
       "    <tr>\n",
       "      <th>...</th>\n",
       "      <td>...</td>\n",
       "    </tr>\n",
       "    <tr>\n",
       "      <th>Volkswagen</th>\n",
       "      <td>244.054441</td>\n",
       "    </tr>\n",
       "    <tr>\n",
       "      <th>Volvo</th>\n",
       "      <td>270.853556</td>\n",
       "    </tr>\n",
       "    <tr>\n",
       "      <th>Wallace Environmental</th>\n",
       "      <td>408.937500</td>\n",
       "    </tr>\n",
       "    <tr>\n",
       "      <th>Yugo</th>\n",
       "      <td>221.125000</td>\n",
       "    </tr>\n",
       "    <tr>\n",
       "      <th>smart</th>\n",
       "      <td>153.350000</td>\n",
       "    </tr>\n",
       "  </tbody>\n",
       "</table>\n",
       "<p>127 rows × 1 columns</p>\n",
       "</div>"
      ],
      "text/plain": [
       "                             CO2 Emission Grams/KM\n",
       "Make                                              \n",
       "AM General                              380.000000\n",
       "ASC Incorporated                        345.000000\n",
       "Acura                                   262.619205\n",
       "Alfa Romeo                              288.439024\n",
       "American Motors Corporation             314.363636\n",
       "...                                            ...\n",
       "Volkswagen                              244.054441\n",
       "Volvo                                   270.853556\n",
       "Wallace Environmental                   408.937500\n",
       "Yugo                                    221.125000\n",
       "smart                                   153.350000\n",
       "\n",
       "[127 rows x 1 columns]"
      ]
     },
     "execution_count": 9,
     "metadata": {},
     "output_type": "execute_result"
    }
   ],
   "source": [
    "### your code us here\n",
    "cars[\"CO2 Emission Grams/KM\"] = cars[\"CO2 Emission Grams/KM\"].apply(lambda x: round(x/1.60934))\n",
    "cars.groupby(\"Make\")[[\"CO2 Emission Grams/KM\"]].mean()"
   ]
  },
  {
   "cell_type": "markdown",
   "metadata": {},
   "source": [
    "<b>show the average CO2_Emission_Grams/Km  by Brand ... sorted"
   ]
  },
  {
   "cell_type": "code",
   "execution_count": 23,
   "metadata": {
    "colab": {
     "base_uri": "https://localhost:8080/",
     "height": 437
    },
    "executionInfo": {
     "elapsed": 271,
     "status": "ok",
     "timestamp": 1623145508527,
     "user": {
      "displayName": "Ignacio Soteras",
      "photoUrl": "",
      "userId": "02050793736257155229"
     },
     "user_tz": -120
    },
    "id": "HmkHNbaIAlxR",
    "outputId": "90c966a3-f1cb-4cea-94da-7e3c4654d996"
   },
   "outputs": [
    {
     "data": {
      "text/html": [
       "<div>\n",
       "<style scoped>\n",
       "    .dataframe tbody tr th:only-of-type {\n",
       "        vertical-align: middle;\n",
       "    }\n",
       "\n",
       "    .dataframe tbody tr th {\n",
       "        vertical-align: top;\n",
       "    }\n",
       "\n",
       "    .dataframe thead th {\n",
       "        text-align: right;\n",
       "    }\n",
       "</style>\n",
       "<table border=\"1\" class=\"dataframe\">\n",
       "  <thead>\n",
       "    <tr style=\"text-align: right;\">\n",
       "      <th></th>\n",
       "      <th>CO2 Emission Grams/KM</th>\n",
       "    </tr>\n",
       "    <tr>\n",
       "      <th>Make</th>\n",
       "      <th></th>\n",
       "    </tr>\n",
       "  </thead>\n",
       "  <tbody>\n",
       "    <tr>\n",
       "      <th>Fisker</th>\n",
       "      <td>105.000000</td>\n",
       "    </tr>\n",
       "    <tr>\n",
       "      <th>smart</th>\n",
       "      <td>153.350000</td>\n",
       "    </tr>\n",
       "    <tr>\n",
       "      <th>Fiat</th>\n",
       "      <td>189.232558</td>\n",
       "    </tr>\n",
       "    <tr>\n",
       "      <th>Daihatsu</th>\n",
       "      <td>192.705882</td>\n",
       "    </tr>\n",
       "    <tr>\n",
       "      <th>MINI</th>\n",
       "      <td>194.896875</td>\n",
       "    </tr>\n",
       "    <tr>\n",
       "      <th>...</th>\n",
       "      <td>...</td>\n",
       "    </tr>\n",
       "    <tr>\n",
       "      <th>Laforza Automobile Inc</th>\n",
       "      <td>502.000000</td>\n",
       "    </tr>\n",
       "    <tr>\n",
       "      <th>Bugatti</th>\n",
       "      <td>542.250000</td>\n",
       "    </tr>\n",
       "    <tr>\n",
       "      <th>Superior Coaches Div E.p. Dutton</th>\n",
       "      <td>552.000000</td>\n",
       "    </tr>\n",
       "    <tr>\n",
       "      <th>S and S Coach Company  E.p. Dutton</th>\n",
       "      <td>552.000000</td>\n",
       "    </tr>\n",
       "    <tr>\n",
       "      <th>Vector</th>\n",
       "      <td>652.000000</td>\n",
       "    </tr>\n",
       "  </tbody>\n",
       "</table>\n",
       "<p>127 rows × 1 columns</p>\n",
       "</div>"
      ],
      "text/plain": [
       "                                    CO2 Emission Grams/KM\n",
       "Make                                                     \n",
       "Fisker                                         105.000000\n",
       "smart                                          153.350000\n",
       "Fiat                                           189.232558\n",
       "Daihatsu                                       192.705882\n",
       "MINI                                           194.896875\n",
       "...                                                   ...\n",
       "Laforza Automobile Inc                         502.000000\n",
       "Bugatti                                        542.250000\n",
       "Superior Coaches Div E.p. Dutton               552.000000\n",
       "S and S Coach Company  E.p. Dutton             552.000000\n",
       "Vector                                         652.000000\n",
       "\n",
       "[127 rows x 1 columns]"
      ]
     },
     "execution_count": 23,
     "metadata": {},
     "output_type": "execute_result"
    }
   ],
   "source": [
    "### your code us here\n",
    "cars.groupby(\"Make\")[[\"CO2 Emission Grams/KM\"]].mean().sort_values(by= \"CO2 Emission Grams/KM\")"
   ]
  },
  {
   "cell_type": "markdown",
   "metadata": {},
   "source": [
    "# (Optional) "
   ]
  },
  {
   "cell_type": "markdown",
   "metadata": {
    "id": "PQDBkdTO6Fg8"
   },
   "source": [
    "Use `pd.cut` or `pd.qcut` to create 4 groups (bins) of cars, by Year. We want to explore how cars have evolved decade by decade."
   ]
  },
  {
   "cell_type": "code",
   "execution_count": 11,
   "metadata": {
    "colab": {
     "base_uri": "https://localhost:8080/"
    },
    "executionInfo": {
     "elapsed": 234,
     "status": "ok",
     "timestamp": 1623145662903,
     "user": {
      "displayName": "Ignacio Soteras",
      "photoUrl": "",
      "userId": "02050793736257155229"
     },
     "user_tz": -120
    },
    "id": "C70ymFKC6Fg8",
    "outputId": "b951d08b-a80a-4e63-ea09-8940423f97ee"
   },
   "outputs": [
    {
     "data": {
      "text/plain": [
       "count    35952.00000\n",
       "mean      2000.71640\n",
       "std         10.08529\n",
       "min       1984.00000\n",
       "25%       1991.00000\n",
       "50%       2001.00000\n",
       "75%       2010.00000\n",
       "max       2017.00000\n",
       "Name: Year, dtype: float64"
      ]
     },
     "execution_count": 11,
     "metadata": {},
     "output_type": "execute_result"
    }
   ],
   "source": [
    "cars['Year'].describe()"
   ]
  },
  {
   "cell_type": "code",
   "execution_count": 56,
   "metadata": {
    "executionInfo": {
     "elapsed": 229,
     "status": "ok",
     "timestamp": 1623145807038,
     "user": {
      "displayName": "Ignacio Soteras",
      "photoUrl": "",
      "userId": "02050793736257155229"
     },
     "user_tz": -120
    },
    "id": "rhEot_x1rsMg"
   },
   "outputs": [
    {
     "data": {
      "text/plain": [
       "0        (1983.967, 1992.25]\n",
       "1        (1983.967, 1992.25]\n",
       "2        (1983.967, 1992.25]\n",
       "3        (1983.967, 1992.25]\n",
       "4        (1983.967, 1992.25]\n",
       "                ...         \n",
       "35947      (2008.75, 2017.0]\n",
       "35948      (2008.75, 2017.0]\n",
       "35949      (2008.75, 2017.0]\n",
       "35950      (2008.75, 2017.0]\n",
       "35951      (2008.75, 2017.0]\n",
       "Name: Year, Length: 35952, dtype: category\n",
       "Categories (4, interval[float64, right]): [(1983.967, 1992.25] < (1992.25, 2000.5] < (2000.5, 2008.75] < (2008.75, 2017.0]]"
      ]
     },
     "execution_count": 56,
     "metadata": {},
     "output_type": "execute_result"
    }
   ],
   "source": [
    "## your code here\n",
    "pd.cut(cars[\"Year\"], bins = 4)"
   ]
  },
  {
   "cell_type": "code",
   "execution_count": 75,
   "metadata": {
    "executionInfo": {
     "elapsed": 229,
     "status": "ok",
     "timestamp": 1623145807038,
     "user": {
      "displayName": "Ignacio Soteras",
      "photoUrl": "",
      "userId": "02050793736257155229"
     },
     "user_tz": -120
    },
    "id": "rhEot_x1rsMg"
   },
   "outputs": [
    {
     "data": {
      "text/html": [
       "<div>\n",
       "<style scoped>\n",
       "    .dataframe tbody tr th:only-of-type {\n",
       "        vertical-align: middle;\n",
       "    }\n",
       "\n",
       "    .dataframe tbody tr th {\n",
       "        vertical-align: top;\n",
       "    }\n",
       "\n",
       "    .dataframe thead th {\n",
       "        text-align: right;\n",
       "    }\n",
       "</style>\n",
       "<table border=\"1\" class=\"dataframe\">\n",
       "  <thead>\n",
       "    <tr style=\"text-align: right;\">\n",
       "      <th>Year</th>\n",
       "      <th>(1983.967, 1992.25]</th>\n",
       "      <th>(1992.25, 2000.5]</th>\n",
       "      <th>(2000.5, 2008.75]</th>\n",
       "      <th>(2008.75, 2017.0]</th>\n",
       "    </tr>\n",
       "    <tr>\n",
       "      <th>Make</th>\n",
       "      <th></th>\n",
       "      <th></th>\n",
       "      <th></th>\n",
       "      <th></th>\n",
       "    </tr>\n",
       "  </thead>\n",
       "  <tbody>\n",
       "    <tr>\n",
       "      <th>AM General</th>\n",
       "      <td>4</td>\n",
       "      <td>0</td>\n",
       "      <td>0</td>\n",
       "      <td>0</td>\n",
       "    </tr>\n",
       "    <tr>\n",
       "      <th>ASC Incorporated</th>\n",
       "      <td>1</td>\n",
       "      <td>0</td>\n",
       "      <td>0</td>\n",
       "      <td>0</td>\n",
       "    </tr>\n",
       "    <tr>\n",
       "      <th>Acura</th>\n",
       "      <td>37</td>\n",
       "      <td>83</td>\n",
       "      <td>75</td>\n",
       "      <td>107</td>\n",
       "    </tr>\n",
       "    <tr>\n",
       "      <th>Alfa Romeo</th>\n",
       "      <td>28</td>\n",
       "      <td>10</td>\n",
       "      <td>0</td>\n",
       "      <td>3</td>\n",
       "    </tr>\n",
       "    <tr>\n",
       "      <th>American Motors Corporation</th>\n",
       "      <td>22</td>\n",
       "      <td>0</td>\n",
       "      <td>0</td>\n",
       "      <td>0</td>\n",
       "    </tr>\n",
       "    <tr>\n",
       "      <th>...</th>\n",
       "      <td>...</td>\n",
       "      <td>...</td>\n",
       "      <td>...</td>\n",
       "      <td>...</td>\n",
       "    </tr>\n",
       "    <tr>\n",
       "      <th>Volkswagen</th>\n",
       "      <td>174</td>\n",
       "      <td>203</td>\n",
       "      <td>337</td>\n",
       "      <td>333</td>\n",
       "    </tr>\n",
       "    <tr>\n",
       "      <th>Volvo</th>\n",
       "      <td>156</td>\n",
       "      <td>120</td>\n",
       "      <td>248</td>\n",
       "      <td>193</td>\n",
       "    </tr>\n",
       "    <tr>\n",
       "      <th>Wallace Environmental</th>\n",
       "      <td>32</td>\n",
       "      <td>0</td>\n",
       "      <td>0</td>\n",
       "      <td>0</td>\n",
       "    </tr>\n",
       "    <tr>\n",
       "      <th>Yugo</th>\n",
       "      <td>8</td>\n",
       "      <td>0</td>\n",
       "      <td>0</td>\n",
       "      <td>0</td>\n",
       "    </tr>\n",
       "    <tr>\n",
       "      <th>smart</th>\n",
       "      <td>0</td>\n",
       "      <td>0</td>\n",
       "      <td>2</td>\n",
       "      <td>18</td>\n",
       "    </tr>\n",
       "  </tbody>\n",
       "</table>\n",
       "<p>127 rows × 4 columns</p>\n",
       "</div>"
      ],
      "text/plain": [
       "Year                         (1983.967, 1992.25]  (1992.25, 2000.5]  \\\n",
       "Make                                                                  \n",
       "AM General                                     4                  0   \n",
       "ASC Incorporated                               1                  0   \n",
       "Acura                                         37                 83   \n",
       "Alfa Romeo                                    28                 10   \n",
       "American Motors Corporation                   22                  0   \n",
       "...                                          ...                ...   \n",
       "Volkswagen                                   174                203   \n",
       "Volvo                                        156                120   \n",
       "Wallace Environmental                         32                  0   \n",
       "Yugo                                           8                  0   \n",
       "smart                                          0                  0   \n",
       "\n",
       "Year                         (2000.5, 2008.75]  (2008.75, 2017.0]  \n",
       "Make                                                               \n",
       "AM General                                   0                  0  \n",
       "ASC Incorporated                             0                  0  \n",
       "Acura                                       75                107  \n",
       "Alfa Romeo                                   0                  3  \n",
       "American Motors Corporation                  0                  0  \n",
       "...                                        ...                ...  \n",
       "Volkswagen                                 337                333  \n",
       "Volvo                                      248                193  \n",
       "Wallace Environmental                        0                  0  \n",
       "Yugo                                         0                  0  \n",
       "smart                                        2                 18  \n",
       "\n",
       "[127 rows x 4 columns]"
      ]
     },
     "execution_count": 75,
     "metadata": {},
     "output_type": "execute_result"
    }
   ],
   "source": [
    "\n",
    "cars_by_year = cars.groupby(['Make', pd.cut(cars[\"Year\"], bins = 4)])\n",
    "cars_by_year.size().unstack()"
   ]
  },
  {
   "cell_type": "markdown",
   "metadata": {
    "id": "fmGwGGya6Fg8"
   },
   "source": [
    "### Did cars consume more gas in the eighties?"
   ]
  },
  {
   "cell_type": "markdown",
   "metadata": {
    "colab": {
     "base_uri": "https://localhost:8080/",
     "height": 198
    },
    "executionInfo": {
     "elapsed": 256,
     "status": "ok",
     "timestamp": 1623146140731,
     "user": {
      "displayName": "Ignacio Soteras",
      "photoUrl": "",
      "userId": "02050793736257155229"
     },
     "user_tz": -120
    },
    "id": "_sOkpVbvwulT",
    "outputId": "0d79ee50-8241-4cc6-8e2d-b3bec5770bb6"
   },
   "source": [
    "show the average City_Km/Liter by year_range"
   ]
  },
  {
   "cell_type": "code",
   "execution_count": 81,
   "metadata": {},
   "outputs": [
    {
     "data": {
      "text/plain": [
       "Year\n",
       "(1983.967, 1992.25]    7.315214\n",
       "(1992.25, 2000.5]      7.255331\n",
       "(2000.5, 2008.75]      7.179592\n",
       "(2008.75, 2017.0]      8.246256\n",
       "Name: City KPL, dtype: float64"
      ]
     },
     "execution_count": 81,
     "metadata": {},
     "output_type": "execute_result"
    }
   ],
   "source": [
    "### your code is here\n",
    "cars_by_year = cars.groupby([pd.cut(cars[\"Year\"], bins = 4)])\n",
    "cars_by_year[\"City KPL\"].mean()"
   ]
  },
  {
   "cell_type": "markdown",
   "metadata": {
    "id": "ZZ96MZrR6Fg9"
   },
   "source": [
    "Which brands are more environment friendly?"
   ]
  },
  {
   "cell_type": "code",
   "execution_count": 94,
   "metadata": {
    "colab": {
     "base_uri": "https://localhost:8080/",
     "height": 437
    },
    "executionInfo": {
     "elapsed": 10,
     "status": "ok",
     "timestamp": 1623146393112,
     "user": {
      "displayName": "Ignacio Soteras",
      "photoUrl": "",
      "userId": "02050793736257155229"
     },
     "user_tz": -120
    },
    "id": "7qSlKjqF6Fg9",
    "outputId": "85d66c6b-ac7a-4585-b8af-aad43c4718a7"
   },
   "outputs": [
    {
     "data": {
      "text/plain": [
       "CO2 Emission Grams/KM    Fisker\n",
       "dtype: object"
      ]
     },
     "execution_count": 94,
     "metadata": {},
     "output_type": "execute_result"
    }
   ],
   "source": [
    "### your code is here\n",
    "cars.groupby(\"Make\")[[\"CO2 Emission Grams/KM\"]].mean().idxmin()"
   ]
  },
  {
   "cell_type": "markdown",
   "metadata": {
    "id": "dGHYkM8q6Fg9"
   },
   "source": [
    "Does the drivetrain affect fuel consumption?"
   ]
  },
  {
   "cell_type": "code",
   "execution_count": 116,
   "metadata": {
    "colab": {
     "base_uri": "https://localhost:8080/",
     "height": 318
    },
    "executionInfo": {
     "elapsed": 245,
     "status": "ok",
     "timestamp": 1623146457215,
     "user": {
      "displayName": "Ignacio Soteras",
      "photoUrl": "",
      "userId": "02050793736257155229"
     },
     "user_tz": -120
    },
    "id": "HVpCAkXk6Fg9",
    "outputId": "da0f2f40-4193-40cf-ad1d-60988b00446c"
   },
   "outputs": [
    {
     "data": {
      "text/html": [
       "<div>\n",
       "<style scoped>\n",
       "    .dataframe tbody tr th:only-of-type {\n",
       "        vertical-align: middle;\n",
       "    }\n",
       "\n",
       "    .dataframe tbody tr th {\n",
       "        vertical-align: top;\n",
       "    }\n",
       "\n",
       "    .dataframe thead th {\n",
       "        text-align: right;\n",
       "    }\n",
       "</style>\n",
       "<table border=\"1\" class=\"dataframe\">\n",
       "  <thead>\n",
       "    <tr style=\"text-align: right;\">\n",
       "      <th></th>\n",
       "      <th>Combined KPL</th>\n",
       "    </tr>\n",
       "    <tr>\n",
       "      <th>Drivetrain</th>\n",
       "      <th></th>\n",
       "    </tr>\n",
       "  </thead>\n",
       "  <tbody>\n",
       "    <tr>\n",
       "      <th>Part-time 4-Wheel Drive</th>\n",
       "      <td>6.987342</td>\n",
       "    </tr>\n",
       "    <tr>\n",
       "      <th>4-Wheel or All-Wheel Drive</th>\n",
       "      <td>7.170998</td>\n",
       "    </tr>\n",
       "    <tr>\n",
       "      <th>2-Wheel Drive</th>\n",
       "      <td>7.293144</td>\n",
       "    </tr>\n",
       "    <tr>\n",
       "      <th>Rear-Wheel Drive</th>\n",
       "      <td>7.517523</td>\n",
       "    </tr>\n",
       "    <tr>\n",
       "      <th>4-Wheel Drive</th>\n",
       "      <td>8.128544</td>\n",
       "    </tr>\n",
       "    <tr>\n",
       "      <th>All-Wheel Drive</th>\n",
       "      <td>8.960275</td>\n",
       "    </tr>\n",
       "    <tr>\n",
       "      <th>Front-Wheel Drive</th>\n",
       "      <td>10.202852</td>\n",
       "    </tr>\n",
       "    <tr>\n",
       "      <th>2-Wheel Drive, Front</th>\n",
       "      <td>12.000000</td>\n",
       "    </tr>\n",
       "  </tbody>\n",
       "</table>\n",
       "</div>"
      ],
      "text/plain": [
       "                            Combined KPL\n",
       "Drivetrain                              \n",
       "Part-time 4-Wheel Drive         6.987342\n",
       "4-Wheel or All-Wheel Drive      7.170998\n",
       "2-Wheel Drive                   7.293144\n",
       "Rear-Wheel Drive                7.517523\n",
       "4-Wheel Drive                   8.128544\n",
       "All-Wheel Drive                 8.960275\n",
       "Front-Wheel Drive              10.202852\n",
       "2-Wheel Drive, Front           12.000000"
      ]
     },
     "execution_count": 116,
     "metadata": {},
     "output_type": "execute_result"
    }
   ],
   "source": [
    "## Your Code here\n",
    "cars.groupby(\"Drivetrain\")[[\"Combined KPL\"]].mean().sort_values(by=\"Combined KPL\")"
   ]
  },
  {
   "cell_type": "code",
   "execution_count": null,
   "metadata": {
    "colab": {
     "base_uri": "https://localhost:8080/",
     "height": 318
    },
    "executionInfo": {
     "elapsed": 245,
     "status": "ok",
     "timestamp": 1623146457215,
     "user": {
      "displayName": "Ignacio Soteras",
      "photoUrl": "",
      "userId": "02050793736257155229"
     },
     "user_tz": -120
    },
    "id": "HVpCAkXk6Fg9",
    "outputId": "da0f2f40-4193-40cf-ad1d-60988b00446c"
   },
   "outputs": [],
   "source": []
  },
  {
   "cell_type": "markdown",
   "metadata": {
    "id": "2avLmljX6Fg9"
   },
   "source": [
    "Do cars with automatic transmission consume more fuel than cars with manual transmission?"
   ]
  },
  {
   "cell_type": "code",
   "execution_count": 117,
   "metadata": {
    "colab": {
     "base_uri": "https://localhost:8080/",
     "height": 138
    },
    "executionInfo": {
     "elapsed": 246,
     "status": "ok",
     "timestamp": 1623146549152,
     "user": {
      "displayName": "Ignacio Soteras",
      "photoUrl": "",
      "userId": "02050793736257155229"
     },
     "user_tz": -120
    },
    "id": "VZv72ngN6Fg9",
    "outputId": "88712749-0f24-4cc6-a007-0b05f79e885d"
   },
   "outputs": [
    {
     "data": {
      "text/html": [
       "<div>\n",
       "<style scoped>\n",
       "    .dataframe tbody tr th:only-of-type {\n",
       "        vertical-align: middle;\n",
       "    }\n",
       "\n",
       "    .dataframe tbody tr th {\n",
       "        vertical-align: top;\n",
       "    }\n",
       "\n",
       "    .dataframe thead th {\n",
       "        text-align: right;\n",
       "    }\n",
       "</style>\n",
       "<table border=\"1\" class=\"dataframe\">\n",
       "  <thead>\n",
       "    <tr style=\"text-align: right;\">\n",
       "      <th></th>\n",
       "      <th>Combined KPL</th>\n",
       "    </tr>\n",
       "    <tr>\n",
       "      <th>Transmission</th>\n",
       "      <th></th>\n",
       "    </tr>\n",
       "  </thead>\n",
       "  <tbody>\n",
       "    <tr>\n",
       "      <th>Automatic (AM6)</th>\n",
       "      <td>6.000000</td>\n",
       "    </tr>\n",
       "    <tr>\n",
       "      <th>Manual 5 spd</th>\n",
       "      <td>6.000000</td>\n",
       "    </tr>\n",
       "    <tr>\n",
       "      <th>Manual 3-spd</th>\n",
       "      <td>6.351351</td>\n",
       "    </tr>\n",
       "    <tr>\n",
       "      <th>Auto(L3)</th>\n",
       "      <td>6.500000</td>\n",
       "    </tr>\n",
       "    <tr>\n",
       "      <th>Auto(L4)</th>\n",
       "      <td>6.500000</td>\n",
       "    </tr>\n",
       "    <tr>\n",
       "      <th>Automatic (A6)</th>\n",
       "      <td>7.000000</td>\n",
       "    </tr>\n",
       "    <tr>\n",
       "      <th>Manual(M7)</th>\n",
       "      <td>7.333333</td>\n",
       "    </tr>\n",
       "    <tr>\n",
       "      <th>Automatic 5-spd</th>\n",
       "      <td>7.559650</td>\n",
       "    </tr>\n",
       "    <tr>\n",
       "      <th>Automatic 4-spd</th>\n",
       "      <td>7.742749</td>\n",
       "    </tr>\n",
       "    <tr>\n",
       "      <th>Auto(AM7)</th>\n",
       "      <td>7.878981</td>\n",
       "    </tr>\n",
       "    <tr>\n",
       "      <th>Manual 4-spd</th>\n",
       "      <td>7.888208</td>\n",
       "    </tr>\n",
       "    <tr>\n",
       "      <th>Automatic 3-spd</th>\n",
       "      <td>8.141317</td>\n",
       "    </tr>\n",
       "    <tr>\n",
       "      <th>Automatic 6-spd</th>\n",
       "      <td>8.229050</td>\n",
       "    </tr>\n",
       "    <tr>\n",
       "      <th>Automatic 8-spd</th>\n",
       "      <td>8.242798</td>\n",
       "    </tr>\n",
       "    <tr>\n",
       "      <th>Automatic (S7)</th>\n",
       "      <td>8.275862</td>\n",
       "    </tr>\n",
       "    <tr>\n",
       "      <th>Automatic 7-spd</th>\n",
       "      <td>8.441088</td>\n",
       "    </tr>\n",
       "    <tr>\n",
       "      <th>Automatic (S5)</th>\n",
       "      <td>8.474453</td>\n",
       "    </tr>\n",
       "    <tr>\n",
       "      <th>Auto(AM-S7)</th>\n",
       "      <td>8.757812</td>\n",
       "    </tr>\n",
       "    <tr>\n",
       "      <th>Automatic (S4)</th>\n",
       "      <td>8.790393</td>\n",
       "    </tr>\n",
       "    <tr>\n",
       "      <th>Manual 7-spd</th>\n",
       "      <td>8.897059</td>\n",
       "    </tr>\n",
       "    <tr>\n",
       "      <th>Auto(AM-S9)</th>\n",
       "      <td>9.000000</td>\n",
       "    </tr>\n",
       "    <tr>\n",
       "      <th>Auto (AV-S8)</th>\n",
       "      <td>9.000000</td>\n",
       "    </tr>\n",
       "    <tr>\n",
       "      <th>Automatic (S6)</th>\n",
       "      <td>9.025086</td>\n",
       "    </tr>\n",
       "    <tr>\n",
       "      <th>Manual 6-spd</th>\n",
       "      <td>9.041684</td>\n",
       "    </tr>\n",
       "    <tr>\n",
       "      <th>Automatic (S8)</th>\n",
       "      <td>9.142708</td>\n",
       "    </tr>\n",
       "    <tr>\n",
       "      <th>Manual 5-spd</th>\n",
       "      <td>9.236291</td>\n",
       "    </tr>\n",
       "    <tr>\n",
       "      <th>Automatic (S9)</th>\n",
       "      <td>9.807692</td>\n",
       "    </tr>\n",
       "    <tr>\n",
       "      <th>Automatic 9-spd</th>\n",
       "      <td>9.900000</td>\n",
       "    </tr>\n",
       "    <tr>\n",
       "      <th>Auto (AV-S6)</th>\n",
       "      <td>10.000000</td>\n",
       "    </tr>\n",
       "    <tr>\n",
       "      <th>Auto(AM8)</th>\n",
       "      <td>10.200000</td>\n",
       "    </tr>\n",
       "    <tr>\n",
       "      <th>Auto(AV-S8)</th>\n",
       "      <td>10.653846</td>\n",
       "    </tr>\n",
       "    <tr>\n",
       "      <th>Automatic (AV-S6)</th>\n",
       "      <td>10.666667</td>\n",
       "    </tr>\n",
       "    <tr>\n",
       "      <th>Automatic (AV)</th>\n",
       "      <td>10.750000</td>\n",
       "    </tr>\n",
       "    <tr>\n",
       "      <th>Automatic 6spd</th>\n",
       "      <td>11.000000</td>\n",
       "    </tr>\n",
       "    <tr>\n",
       "      <th>Auto(AM6)</th>\n",
       "      <td>11.400000</td>\n",
       "    </tr>\n",
       "    <tr>\n",
       "      <th>Auto(AM-S8)</th>\n",
       "      <td>11.500000</td>\n",
       "    </tr>\n",
       "    <tr>\n",
       "      <th>Auto(AM-S6)</th>\n",
       "      <td>11.663043</td>\n",
       "    </tr>\n",
       "    <tr>\n",
       "      <th>Auto(AV-S6)</th>\n",
       "      <td>11.779310</td>\n",
       "    </tr>\n",
       "    <tr>\n",
       "      <th>Automatic (variable gear ratios)</th>\n",
       "      <td>12.248889</td>\n",
       "    </tr>\n",
       "    <tr>\n",
       "      <th>Auto(AV-S7)</th>\n",
       "      <td>12.841270</td>\n",
       "    </tr>\n",
       "    <tr>\n",
       "      <th>Automatic (A1)</th>\n",
       "      <td>14.333333</td>\n",
       "    </tr>\n",
       "    <tr>\n",
       "      <th>Automatic (AM5)</th>\n",
       "      <td>15.000000</td>\n",
       "    </tr>\n",
       "    <tr>\n",
       "      <th>Auto(AM5)</th>\n",
       "      <td>15.000000</td>\n",
       "    </tr>\n",
       "    <tr>\n",
       "      <th>Auto (AV)</th>\n",
       "      <td>16.000000</td>\n",
       "    </tr>\n",
       "    <tr>\n",
       "      <th>Auto(A1)</th>\n",
       "      <td>17.000000</td>\n",
       "    </tr>\n",
       "  </tbody>\n",
       "</table>\n",
       "</div>"
      ],
      "text/plain": [
       "                                  Combined KPL\n",
       "Transmission                                  \n",
       "Automatic (AM6)                       6.000000\n",
       "Manual 5 spd                          6.000000\n",
       "Manual 3-spd                          6.351351\n",
       "Auto(L3)                              6.500000\n",
       "Auto(L4)                              6.500000\n",
       "Automatic (A6)                        7.000000\n",
       "Manual(M7)                            7.333333\n",
       "Automatic 5-spd                       7.559650\n",
       "Automatic 4-spd                       7.742749\n",
       "Auto(AM7)                             7.878981\n",
       "Manual 4-spd                          7.888208\n",
       "Automatic 3-spd                       8.141317\n",
       "Automatic 6-spd                       8.229050\n",
       "Automatic 8-spd                       8.242798\n",
       "Automatic (S7)                        8.275862\n",
       "Automatic 7-spd                       8.441088\n",
       "Automatic (S5)                        8.474453\n",
       "Auto(AM-S7)                           8.757812\n",
       "Automatic (S4)                        8.790393\n",
       "Manual 7-spd                          8.897059\n",
       "Auto(AM-S9)                           9.000000\n",
       "Auto (AV-S8)                          9.000000\n",
       "Automatic (S6)                        9.025086\n",
       "Manual 6-spd                          9.041684\n",
       "Automatic (S8)                        9.142708\n",
       "Manual 5-spd                          9.236291\n",
       "Automatic (S9)                        9.807692\n",
       "Automatic 9-spd                       9.900000\n",
       "Auto (AV-S6)                         10.000000\n",
       "Auto(AM8)                            10.200000\n",
       "Auto(AV-S8)                          10.653846\n",
       "Automatic (AV-S6)                    10.666667\n",
       "Automatic (AV)                       10.750000\n",
       "Automatic 6spd                       11.000000\n",
       "Auto(AM6)                            11.400000\n",
       "Auto(AM-S8)                          11.500000\n",
       "Auto(AM-S6)                          11.663043\n",
       "Auto(AV-S6)                          11.779310\n",
       "Automatic (variable gear ratios)     12.248889\n",
       "Auto(AV-S7)                          12.841270\n",
       "Automatic (A1)                       14.333333\n",
       "Automatic (AM5)                      15.000000\n",
       "Auto(AM5)                            15.000000\n",
       "Auto (AV)                            16.000000\n",
       "Auto(A1)                             17.000000"
      ]
     },
     "execution_count": 117,
     "metadata": {},
     "output_type": "execute_result"
    }
   ],
   "source": [
    "## Your Code here\n",
    "cars.groupby(\"Transmission\")[[\"Combined KPL\"]].mean().sort_values(by=\"Combined KPL\")"
   ]
  },
  {
   "cell_type": "markdown",
   "metadata": {
    "id": "tJsmxD3K6Fg9"
   },
   "source": [
    "Use `groupby` and `agg` with different aggregation measures for different columns:"
   ]
  },
  {
   "cell_type": "markdown",
   "metadata": {},
   "source": [
    "aggregate with average City_Km/Liter and the count of the Trans"
   ]
  },
  {
   "cell_type": "code",
   "execution_count": 126,
   "metadata": {
    "colab": {
     "base_uri": "https://localhost:8080/",
     "height": 138
    },
    "executionInfo": {
     "elapsed": 268,
     "status": "ok",
     "timestamp": 1623146659201,
     "user": {
      "displayName": "Ignacio Soteras",
      "photoUrl": "",
      "userId": "02050793736257155229"
     },
     "user_tz": -120
    },
    "id": "1rVFzsdG6Fg9",
    "outputId": "ad726e32-d3d9-4d69-b9e8-c7ae43a40c96"
   },
   "outputs": [
    {
     "ename": "AttributeError",
     "evalue": "module 'pandas' has no attribute 'mean'",
     "output_type": "error",
     "traceback": [
      "\u001b[0;31m---------------------------------------------------------------------------\u001b[0m",
      "\u001b[0;31mAttributeError\u001b[0m                            Traceback (most recent call last)",
      "Input \u001b[0;32mIn [126]\u001b[0m, in \u001b[0;36m<cell line: 2>\u001b[0;34m()\u001b[0m\n\u001b[1;32m      1\u001b[0m \u001b[38;5;66;03m## your code is here\u001b[39;00m\n\u001b[0;32m----> 2\u001b[0m cars\u001b[38;5;241m.\u001b[39mgroupby(\u001b[38;5;124m'\u001b[39m\u001b[38;5;124mModel\u001b[39m\u001b[38;5;124m'\u001b[39m)\u001b[38;5;241m.\u001b[39magg(\u001b[43mpd\u001b[49m\u001b[38;5;241;43m.\u001b[39;49m\u001b[43mmean\u001b[49m(\u001b[38;5;124m\"\u001b[39m\u001b[38;5;124mCombined KPL\u001b[39m\u001b[38;5;124m\"\u001b[39m), cars[\u001b[38;5;124m\"\u001b[39m\u001b[38;5;124mTransmission\u001b[39m\u001b[38;5;124m\"\u001b[39m]\u001b[38;5;241m.\u001b[39mcount())\n",
      "File \u001b[0;32m~/opt/anaconda3/lib/python3.9/site-packages/pandas/__init__.py:261\u001b[0m, in \u001b[0;36m__getattr__\u001b[0;34m(name)\u001b[0m\n\u001b[1;32m    257\u001b[0m     \u001b[38;5;28;01mfrom\u001b[39;00m \u001b[38;5;21;01mpandas\u001b[39;00m\u001b[38;5;21;01m.\u001b[39;00m\u001b[38;5;21;01mcore\u001b[39;00m\u001b[38;5;21;01m.\u001b[39;00m\u001b[38;5;21;01marrays\u001b[39;00m\u001b[38;5;21;01m.\u001b[39;00m\u001b[38;5;21;01msparse\u001b[39;00m \u001b[38;5;28;01mimport\u001b[39;00m SparseArray \u001b[38;5;28;01mas\u001b[39;00m _SparseArray\n\u001b[1;32m    259\u001b[0m     \u001b[38;5;28;01mreturn\u001b[39;00m _SparseArray\n\u001b[0;32m--> 261\u001b[0m \u001b[38;5;28;01mraise\u001b[39;00m \u001b[38;5;167;01mAttributeError\u001b[39;00m(\u001b[38;5;124mf\u001b[39m\u001b[38;5;124m\"\u001b[39m\u001b[38;5;124mmodule \u001b[39m\u001b[38;5;124m'\u001b[39m\u001b[38;5;124mpandas\u001b[39m\u001b[38;5;124m'\u001b[39m\u001b[38;5;124m has no attribute \u001b[39m\u001b[38;5;124m'\u001b[39m\u001b[38;5;132;01m{\u001b[39;00mname\u001b[38;5;132;01m}\u001b[39;00m\u001b[38;5;124m'\u001b[39m\u001b[38;5;124m\"\u001b[39m)\n",
      "\u001b[0;31mAttributeError\u001b[0m: module 'pandas' has no attribute 'mean'"
     ]
    }
   ],
   "source": [
    "## your code is here\n",
    "cars.groupby('Model').agg(pd.mean(\"Combined KPL\"), cars[\"Transmission\"].count())"
   ]
  },
  {
   "cell_type": "markdown",
   "metadata": {},
   "source": [
    "aggregate with average City_Km/Liter and the minimum of the Trans"
   ]
  },
  {
   "cell_type": "code",
   "execution_count": 18,
   "metadata": {
    "colab": {
     "base_uri": "https://localhost:8080/",
     "height": 138
    },
    "executionInfo": {
     "elapsed": 228,
     "status": "ok",
     "timestamp": 1623147799942,
     "user": {
      "displayName": "Ignacio Soteras",
      "photoUrl": "",
      "userId": "02050793736257155229"
     },
     "user_tz": -120
    },
    "id": "qsrSdXAdJWAO",
    "outputId": "89b30e64-6827-4ac0-f386-87bedec3fd4b"
   },
   "outputs": [],
   "source": [
    "### your code is here"
   ]
  },
  {
   "cell_type": "code",
   "execution_count": 110,
   "metadata": {},
   "outputs": [
    {
     "name": "stdout",
     "output_type": "stream",
     "text": [
      "<class 'pandas.core.frame.DataFrame'>\n",
      "RangeIndex: 35952 entries, 0 to 35951\n",
      "Data columns (total 15 columns):\n",
      " #   Column                 Non-Null Count  Dtype  \n",
      "---  ------                 --------------  -----  \n",
      " 0   Make                   35952 non-null  object \n",
      " 1   Model                  35952 non-null  object \n",
      " 2   Year                   35952 non-null  int64  \n",
      " 3   Engine Displacement    35952 non-null  float64\n",
      " 4   Cylinders              35952 non-null  float64\n",
      " 5   Transmission           35952 non-null  object \n",
      " 6   Drivetrain             35952 non-null  object \n",
      " 7   Vehicle Class          35952 non-null  object \n",
      " 8   Fuel Type              35952 non-null  object \n",
      " 9   Fuel Barrels/Year      35952 non-null  float64\n",
      " 10  City KPL               35952 non-null  int64  \n",
      " 11  Highway KPL            35952 non-null  int64  \n",
      " 12  Combined KPL           35952 non-null  int64  \n",
      " 13  CO2 Emission Grams/KM  35952 non-null  int64  \n",
      " 14  Fuel Cost/Year         35952 non-null  int64  \n",
      "dtypes: float64(3), int64(6), object(6)\n",
      "memory usage: 4.1+ MB\n"
     ]
    }
   ],
   "source": [
    "cars.info()"
   ]
  },
  {
   "cell_type": "code",
   "execution_count": null,
   "metadata": {},
   "outputs": [],
   "source": []
  }
 ],
 "metadata": {
  "colab": {
   "name": "Pandas_Grouping_Joining_Cars_Structure.ipynb",
   "provenance": []
  },
  "kernelspec": {
   "display_name": "Python 3 (ipykernel)",
   "language": "python",
   "name": "python3"
  },
  "language_info": {
   "codemirror_mode": {
    "name": "ipython",
    "version": 3
   },
   "file_extension": ".py",
   "mimetype": "text/x-python",
   "name": "python",
   "nbconvert_exporter": "python",
   "pygments_lexer": "ipython3",
   "version": "3.9.12"
  },
  "toc": {
   "base_numbering": 1,
   "nav_menu": {},
   "number_sections": true,
   "sideBar": true,
   "skip_h1_title": false,
   "title_cell": "Table of Contents",
   "title_sidebar": "Contents",
   "toc_cell": false,
   "toc_position": {},
   "toc_section_display": true,
   "toc_window_display": false
  },
  "varInspector": {
   "cols": {
    "lenName": 16,
    "lenType": 16,
    "lenVar": 40
   },
   "kernels_config": {
    "python": {
     "delete_cmd_postfix": "",
     "delete_cmd_prefix": "del ",
     "library": "var_list.py",
     "varRefreshCmd": "print(var_dic_list())"
    },
    "r": {
     "delete_cmd_postfix": ") ",
     "delete_cmd_prefix": "rm(",
     "library": "var_list.r",
     "varRefreshCmd": "cat(var_dic_list()) "
    }
   },
   "types_to_exclude": [
    "module",
    "function",
    "builtin_function_or_method",
    "instance",
    "_Feature"
   ],
   "window_display": false
  }
 },
 "nbformat": 4,
 "nbformat_minor": 1
}
