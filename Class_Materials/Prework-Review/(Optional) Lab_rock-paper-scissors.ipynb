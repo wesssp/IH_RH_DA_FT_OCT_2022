{
 "cells": [
  {
   "cell_type": "markdown",
   "metadata": {},
   "source": [
    "<img src=\"https://bit.ly/2VnXWr2\" width=\"100\" align=\"left\">"
   ]
  },
  {
   "cell_type": "markdown",
   "metadata": {},
   "source": [
    "# Rock, Paper & Scissors\n",
    "\n",
    "Let's play the famous game against our computer. You can check the rules [here](https://en.wikipedia.org/wiki/Rock%E2%80%93paper%E2%80%93scissors). \n",
    "\n",
    "## Task\n",
    "Create a program that imitates the playability of the well known game of rock, paper, scissors. Follow the guidelines provided.\n",
    "\n",
    "## Tools\n",
    "1. Loop: **for/while**\n",
    "2. Functions: **input(), print()...**\n",
    "3. Conditional statements: **if, elif, else**\n",
    "4. Definition of functions. Modular programming\n",
    "5. Import modules\n",
    "\n",
    "- **To solve this challenge, the use of functions is recommended.**\n",
    "- <b>Hint: You dont need necessarily to follow the instructions in this notebook to solve the tasks. simply just get the job done effeciently ;) \n",
    "\n",
    "#### 1. Import the choice function of the random module."
   ]
  },
  {
   "cell_type": "code",
   "execution_count": 34,
   "metadata": {},
   "outputs": [],
   "source": [
    "import random"
   ]
  },
  {
   "cell_type": "markdown",
   "metadata": {},
   "source": [
    "#### 2. Create a list that includes the 3 possible gesture options of the game: 'rock', 'paper' or 'scissors'. Store the list in a variable called `gestures`."
   ]
  },
  {
   "cell_type": "code",
   "execution_count": 35,
   "metadata": {},
   "outputs": [],
   "source": []
  },
  {
   "cell_type": "markdown",
   "metadata": {},
   "source": [
    "#### 3. Create a variable called `n_rounds` to store the maximum number of rounds to play in a game. \n",
    "Remember that the number of rounds must be odd: 1, 3, 5, ..."
   ]
  },
  {
   "cell_type": "code",
   "execution_count": 36,
   "metadata": {},
   "outputs": [],
   "source": [
    "n_rounds = 11"
   ]
  },
  {
   "cell_type": "markdown",
   "metadata": {},
   "source": [
    "#### 4. Create a variable called `rounds_to_win` to store the number of rounds that a player must win to win the game.\n",
    "**Hint**: the value stored in `rounds_to_win` depends on the value of `n_rounds`. "
   ]
  },
  {
   "cell_type": "code",
   "execution_count": 37,
   "metadata": {},
   "outputs": [],
   "source": [
    "rounds_to_win = 6"
   ]
  },
  {
   "cell_type": "markdown",
   "metadata": {},
   "source": [
    "#### 5. Create two variables to store the number of rounds that the computer and the player have won. Call these variables `cpu_score` and `player_score`."
   ]
  },
  {
   "cell_type": "code",
   "execution_count": 38,
   "metadata": {},
   "outputs": [],
   "source": [
    "cpu_score = 0\n",
    "player_score = 0"
   ]
  },
  {
   "cell_type": "markdown",
   "metadata": {},
   "source": [
    "#### 6. Define a function that randomly returns one of the 3 gesture options.\n",
    "You will use this function to simulate the gesture choice of the computer. "
   ]
  },
  {
   "cell_type": "code",
   "execution_count": 39,
   "metadata": {},
   "outputs": [
    {
     "data": {
      "text/plain": [
       "'paper'"
      ]
     },
     "execution_count": 39,
     "metadata": {},
     "output_type": "execute_result"
    }
   ],
   "source": []
  },
  {
   "cell_type": "markdown",
   "metadata": {},
   "source": [
    "#### 7. Define a function that asks the player which is the gesture he or she wants to show: 'rock', 'paper' or 'scissors'.\n",
    "The player should only be allowed to choose one of the 3 gesture options. If the player's choice is not rock, paper or scissors, keep asking until it is."
   ]
  },
  {
   "cell_type": "code",
   "execution_count": null,
   "metadata": {},
   "outputs": [],
   "source": []
  },
  {
   "cell_type": "markdown",
   "metadata": {},
   "source": [
    "#### 8. Define a function that checks who won a round. \n",
    "The function should return 0 if there is a tie, 1 if the computer wins and 2 if the player wins."
   ]
  },
  {
   "cell_type": "code",
   "execution_count": null,
   "metadata": {},
   "outputs": [],
   "source": []
  },
  {
   "cell_type": "code",
   "execution_count": null,
   "metadata": {},
   "outputs": [],
   "source": []
  },
  {
   "cell_type": "markdown",
   "metadata": {},
   "source": [
    "#### 9. Define a function that prints the choice of the computer, the choice of the player and a message that announces who won the current round. \n",
    "You should also use this function to update the variables that count the number of rounds that the computer and the player have won. The score of the winner increases by one point. If there is a tie, the score does not increase."
   ]
  },
  {
   "cell_type": "code",
   "execution_count": 42,
   "metadata": {},
   "outputs": [
    {
     "name": "stdout",
     "output_type": "stream",
     "text": [
      "Rock rock\n"
     ]
    }
   ],
   "source": [
    "print(x, y)"
   ]
  },
  {
   "cell_type": "markdown",
   "metadata": {},
   "source": [
    "## 10. Now it's time to code the execution of the game using the functions and variables you defined above. \n",
    "\n",
    "First, create a loop structure that repeats while no player reaches the minimum score necessary to win and the number of rounds is less than the maximum number of rounds to play in a game.  \n",
    "\n",
    "Inside the loop, use the functions and variables above to create the execution of a round: ask for the player's choice, generate the random choice of the computer, show the round results, update the scores, etc. "
   ]
  },
  {
   "cell_type": "code",
   "execution_count": 43,
   "metadata": {},
   "outputs": [
    {
     "data": {
      "text/plain": [
       "0"
      ]
     },
     "execution_count": 43,
     "metadata": {},
     "output_type": "execute_result"
    }
   ],
   "source": []
  },
  {
   "cell_type": "code",
   "execution_count": 44,
   "metadata": {},
   "outputs": [
    {
     "data": {
      "text/plain": [
       "0"
      ]
     },
     "execution_count": 44,
     "metadata": {},
     "output_type": "execute_result"
    }
   ],
   "source": [
    "round_winner(x,y)"
   ]
  },
  {
   "cell_type": "markdown",
   "metadata": {},
   "source": [
    "#### 11. Print the winner of the game based on who won more rounds.\n",
    "Remember that the game might be tied. "
   ]
  },
  {
   "cell_type": "code",
   "execution_count": null,
   "metadata": {},
   "outputs": [],
   "source": []
  },
  {
   "cell_type": "markdown",
   "metadata": {},
   "source": [
    "# (Optional) Rock, Paper, Scissors, Lizard & Spock\n",
    "![](images/rpsls.jpg)\n",
    "\n",
    "In this challenge, you need to improve the previous game by adding two new options. To know more about the rules of the improved version of rock, paper, scissors, check this [link](http://www.samkass.com/theories/RPSSL.html). \n",
    "\n",
    "In addition, you will also need to improve how the game interacts with the player: the number of rounds to play, which must be an odd number, will be requested to the user until a valid number is entered. Define a new function to make that request.\n",
    "\n",
    "**Hint**: Try to reuse the code that you already coded in the previous challenge. If your code is efficient, this bonus will only consist of simple modifications to the original game."
   ]
  },
  {
   "cell_type": "code",
   "execution_count": 49,
   "metadata": {},
   "outputs": [
    {
     "name": "stdout",
     "output_type": "stream",
     "text": [
      "Input a number of games to play 4\n",
      "Please ender an odd number\n",
      "Input a number of games to play 5\n",
      "Choose 1 for Rock, 2 for Paper, 3 for Scissors, 4 for Lizard and 5 for Spock6\n",
      "Choose the number from 1 to 5\n",
      "False\n",
      "Choose 1 for Rock, 2 for Paper, 3 for Scissors, 4 for Lizard and 5 for Spock4\n",
      "0\n",
      "Choose 1 for Rock, 2 for Paper, 3 for Scissors, 4 for Lizard and 5 for Spock4\n",
      "1\n",
      "Choose 1 for Rock, 2 for Paper, 3 for Scissors, 4 for Lizard and 5 for Spock4\n",
      "0\n",
      "Choose 1 for Rock, 2 for Paper, 3 for Scissors, 4 for Lizard and 5 for Spock4\n",
      "1\n",
      "Computer is a winner\n",
      "Comp score is 2\n",
      "Player score is 0\n",
      "Ties: 3\n",
      "5\n"
     ]
    }
   ],
   "source": [
    "import random\n",
    "gestures = [\"rock\", \"paper\", \"scissors\", \"lizard\", \"spock\"]\n",
    "n_rounds = int(input(\"Input a number of games to play \"))\n",
    "while n_rounds % 2 == 0:\n",
    "    print(\"Please ender an odd number\")\n",
    "    n_rounds = int(input(\"Input a number of games to play \"))\n",
    "rounds_to_win = 6\n",
    "cpu_score = 0\n",
    "player_score = 0\n",
    "tie = 0\n",
    "try_count = 0\n",
    "while try_count < n_rounds:\n",
    "    def random_choice():\n",
    "        return random.choice(gestures)\n",
    "    def player_turn():\n",
    "        player_input = input(\"Choose 1 for Rock, 2 for Paper, 3 for Scissors, 4 for Lizard and 5 for Spock\")\n",
    "        if int(player_input) > 0 and int(player_input) < 6:\n",
    "            value_dict = {\"1\" : \"rock\", \"2\": \"paper\", \"3\": \"scissors\", \"4\": \"lizard\", \"5\": \"spock\"}\n",
    "            return value_dict[player_input]\n",
    "        else:\n",
    "            print(\"Choose the number from 1 to 5\")\n",
    "            return False  \n",
    "    x = player_turn()\n",
    "    y = random_choice()\n",
    "    def round_winner(x, y):\n",
    "        if x == False:\n",
    "            return False\n",
    "        elif x == y:\n",
    "            return 0\n",
    "        elif x == \"rock\":\n",
    "            if y == \"paper\" or y == \"spock\":\n",
    "                return 1\n",
    "            else:\n",
    "                return 2\n",
    "        elif x == \"paper\":\n",
    "            if y == \"scissors\" or y == \"lizard\":\n",
    "                return 1\n",
    "            else:\n",
    "                return 2\n",
    "        elif x == \"scissors\":\n",
    "            if y == \"rock\" or y == \"spock\":\n",
    "                return 1\n",
    "            else:\n",
    "                return 2\n",
    "        elif x == \"spock\":\n",
    "            if y == \"lizard\" or y == \"paper\":\n",
    "                return 1\n",
    "            else:\n",
    "                return 2\n",
    "        else:\n",
    "            if y == \"rock\" or y == \"scissors\":\n",
    "                return 1\n",
    "            else:\n",
    "                return 2\n",
    "    print(round_winner(x, y))\n",
    "    try_count += 1\n",
    "    if round_winner(x,y) == 1:\n",
    "        cpu_score +=1\n",
    "    elif round_winner(x,y) == 2:\n",
    "        player_score +=1\n",
    "    elif round_winner(x,y) == 0:\n",
    "        tie += 1\n",
    "if cpu_score > player_score:\n",
    "    print(\"Computer is a winner\")\n",
    "elif cpu_score < player_score:\n",
    "    print(\"Player is a winner\")\n",
    "else:\n",
    "        print(\"It's a tie\")\n",
    "print(\"Comp score is \" + str(cpu_score))\n",
    "print(\"Player score is \" + str(player_score))\n",
    "print(\"Ties: \" + str(tie))\n",
    "print(try_count)"
   ]
  },
  {
   "cell_type": "markdown",
   "metadata": {},
   "source": [
    "4#### "
   ]
  }
 ],
 "metadata": {
  "kernelspec": {
   "display_name": "Python 3 (ipykernel)",
   "language": "python",
   "name": "python3"
  },
  "language_info": {
   "codemirror_mode": {
    "name": "ipython",
    "version": 3
   },
   "file_extension": ".py",
   "mimetype": "text/x-python",
   "name": "python",
   "nbconvert_exporter": "python",
   "pygments_lexer": "ipython3",
   "version": "3.9.12"
  },
  "toc": {
   "base_numbering": 1,
   "nav_menu": {},
   "number_sections": true,
   "sideBar": true,
   "skip_h1_title": false,
   "title_cell": "Table of Contents",
   "title_sidebar": "Contents",
   "toc_cell": false,
   "toc_position": {},
   "toc_section_display": true,
   "toc_window_display": false
  }
 },
 "nbformat": 4,
 "nbformat_minor": 2
}
