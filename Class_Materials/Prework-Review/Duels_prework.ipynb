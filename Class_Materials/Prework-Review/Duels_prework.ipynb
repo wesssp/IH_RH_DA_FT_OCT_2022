{
 "cells": [
  {
   "cell_type": "code",
   "execution_count": 6,
   "id": "cecf4afd",
   "metadata": {},
   "outputs": [],
   "source": [
    "gandalf = [10, 11, 13, 30, 22, 11, 10, 33, 22, 22]\n",
    "saruman = [23, 66, 12, 43, 12, 10, 44, 23, 12, 17]"
   ]
  },
  {
   "cell_type": "code",
   "execution_count": 7,
   "id": "64443c37",
   "metadata": {},
   "outputs": [],
   "source": [
    "gandalf_wins = 0\n",
    "saruman_wins = 0\n",
    "tie = 0"
   ]
  },
  {
   "cell_type": "code",
   "execution_count": 12,
   "id": "815abfd2",
   "metadata": {},
   "outputs": [
    {
     "name": "stdout",
     "output_type": "stream",
     "text": [
      "The winner is Gandalf\n"
     ]
    }
   ],
   "source": [
    "for i in range(0, len(gandalf)):\n",
    "    if gandalf[i] > saruman[i]:\n",
    "        gandalf_wins += 1\n",
    "    elif gandalf[i] < saruman[i]:\n",
    "        saruman_wins += 1\n",
    "    else:\n",
    "        tie += 1\n",
    "winner_dict = {\"Gandalf\" : gandalf_wins, \"Saruman\" : saruman_wins, \"tie\" : tie }\n",
    "print(\"The winner is \" + max(winner_dict, key=winner_dict.get))"
   ]
  },
  {
   "cell_type": "code",
   "execution_count": 17,
   "id": "538e6f0a",
   "metadata": {},
   "outputs": [
    {
     "name": "stdout",
     "output_type": "stream",
     "text": [
      "The winner is Gandalf\n",
      "{'Gandalf': 4, 'Saruman': 0, 'tie': 0}\n"
     ]
    }
   ],
   "source": [
    "POWER = {\n",
    "    'Fireball': 50, \n",
    "    'Lightning bolt': 40, \n",
    "    'Magic arrow': 10, \n",
    "    'Black Tentacles': 25, \n",
    "    'Contagion': 45\n",
    "}\n",
    "\n",
    "gandalf = ['Fireball', 'Lightning bolt', 'Lightning bolt', 'Magic arrow', 'Fireball', \n",
    "           'Magic arrow', 'Lightning bolt', 'Fireball', 'Fireball', 'Fireball']\n",
    "saruman = ['Contagion', 'Contagion', 'Black Tentacles', 'Fireball', 'Black Tentacles', \n",
    "           'Lightning bolt', 'Magic arrow', 'Contagion', 'Magic arrow', 'Magic arrow']\n",
    "gandalf_wins = 0\n",
    "saruman_wins = 0\n",
    "tie = 0\n",
    "\n",
    "for i in range(0, len(gandalf)):\n",
    "    if POWER[gandalf[i]] > POWER[saruman[i]]:\n",
    "        gandalf_wins += 1\n",
    "        saruman_wins = 0\n",
    "        tie = 0\n",
    "    elif POWER[gandalf[i]] < POWER[saruman[i]]:\n",
    "        saruman_wins += 1\n",
    "        gandalf_wins = 0\n",
    "        tie = 0\n",
    "    else:\n",
    "        tie += 1\n",
    "winner_dict = {\"Gandalf\" : gandalf_wins, \"Saruman\" : saruman_wins, \"tie\" : tie }\n",
    "print(\"The winner is \" + max(winner_dict, key=winner_dict.get))\n",
    "print(winner_dict)"
   ]
  },
  {
   "cell_type": "code",
   "execution_count": 23,
   "id": "22286e08",
   "metadata": {},
   "outputs": [
    {
     "data": {
      "text/plain": [
       "30.5"
      ]
     },
     "execution_count": 23,
     "metadata": {},
     "output_type": "execute_result"
    }
   ],
   "source": [
    "#5. Find the average spell power of Gandalf and Saruman.\n",
    "import statistics as stats\n",
    "gandalf_spells = [POWER[gandalf[i]] for i in range(0, len(gandalf))]\n",
    "saruman_spells = [POWER[saruman[i]] for i in range(0, len(saruman))]\n",
    "stats.mean(gandalf_spells)\n",
    "stats.mean(saruman_spells)"
   ]
  },
  {
   "cell_type": "code",
   "execution_count": 29,
   "id": "ddc239ee",
   "metadata": {},
   "outputs": [
    {
     "data": {
      "text/plain": [
       "15"
      ]
     },
     "execution_count": 29,
     "metadata": {},
     "output_type": "execute_result"
    }
   ],
   "source": [
    "import numpy as np\n",
    "round(np.std(saruman_spells))\n",
    "round(np.std(gandalf_spells))"
   ]
  },
  {
   "cell_type": "code",
   "execution_count": null,
   "id": "440b1e55",
   "metadata": {},
   "outputs": [],
   "source": []
  }
 ],
 "metadata": {
  "kernelspec": {
   "display_name": "Python 3 (ipykernel)",
   "language": "python",
   "name": "python3"
  },
  "language_info": {
   "codemirror_mode": {
    "name": "ipython",
    "version": 3
   },
   "file_extension": ".py",
   "mimetype": "text/x-python",
   "name": "python",
   "nbconvert_exporter": "python",
   "pygments_lexer": "ipython3",
   "version": "3.9.12"
  }
 },
 "nbformat": 4,
 "nbformat_minor": 5
}
