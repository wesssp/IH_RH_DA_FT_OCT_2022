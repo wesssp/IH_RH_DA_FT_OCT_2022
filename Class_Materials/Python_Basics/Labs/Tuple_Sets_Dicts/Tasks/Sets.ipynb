{
 "cells": [
  {
   "cell_type": "markdown",
   "metadata": {},
   "source": [
    "## Challenge 2: Sets\n",
    "\n",
    "There are a lot to learn about Python Sets and the information presented in the lesson is limited due to its length. To learn Python Sets in depth you are strongly encouraged to review the W3Schools tutorial on [Python Sets Examples and Methods](https://www.w3schools.com/python/python_sets.asp) before you work on this lab. Some difficult questions in this lab have their solutions in the W3Schools tutorial.\n",
    "\n",
    "#### First, import the Python `random` libary"
   ]
  },
  {
   "cell_type": "code",
   "execution_count": null,
   "metadata": {},
   "outputs": [],
   "source": [
    "import random"
   ]
  },
  {
   "cell_type": "markdown",
   "metadata": {},
   "source": [
    "#### In the cell below, create a list named `sample_list_1` with 80 random values. \n",
    "\n",
    "Requirements:\n",
    "\n",
    "* Each value is an integer falling between 0 and 100.\n",
    "* Each value in the list is unique.\n",
    "\n",
    "Print `sample_list_1` to review its values\n",
    "\n",
    "*Hint: use `random.sample` ([reference](https://docs.python.org/3/library/random.html#random.sample)).*"
   ]
  },
  {
   "cell_type": "code",
   "execution_count": 29,
   "metadata": {},
   "outputs": [
    {
     "data": {
      "text/plain": [
       "[3,\n",
       " 9,\n",
       " 35,\n",
       " 33,\n",
       " 4,\n",
       " 40,\n",
       " 67,\n",
       " 93,\n",
       " 78,\n",
       " 94,\n",
       " 94,\n",
       " 33,\n",
       " 19,\n",
       " 81,\n",
       " 15,\n",
       " 8,\n",
       " 77,\n",
       " 13,\n",
       " 79,\n",
       " 2,\n",
       " 88,\n",
       " 38,\n",
       " 56,\n",
       " 18,\n",
       " 85,\n",
       " 90,\n",
       " 87,\n",
       " 6,\n",
       " 28,\n",
       " 70,\n",
       " 7,\n",
       " 36,\n",
       " 34,\n",
       " 101,\n",
       " 62,\n",
       " 95,\n",
       " 97,\n",
       " 76,\n",
       " 25,\n",
       " 91,\n",
       " 60,\n",
       " 24,\n",
       " 90,\n",
       " 45,\n",
       " 84,\n",
       " 75,\n",
       " 64,\n",
       " 10,\n",
       " 90,\n",
       " 39,\n",
       " 26,\n",
       " 3,\n",
       " 50,\n",
       " 21,\n",
       " 89,\n",
       " 65,\n",
       " 2,\n",
       " 39,\n",
       " 46,\n",
       " 4,\n",
       " 67,\n",
       " 74,\n",
       " 17,\n",
       " 19,\n",
       " 96,\n",
       " 97,\n",
       " 31,\n",
       " 86,\n",
       " 31,\n",
       " 22,\n",
       " 84,\n",
       " 94,\n",
       " 83,\n",
       " 83,\n",
       " 3,\n",
       " 48,\n",
       " 12,\n",
       " 2,\n",
       " 96,\n",
       " 54,\n",
       " 39,\n",
       " 57,\n",
       " 62,\n",
       " 11,\n",
       " 27,\n",
       " 36,\n",
       " 3,\n",
       " 66,\n",
       " 9,\n",
       " 61,\n",
       " 3,\n",
       " 69,\n",
       " 88,\n",
       " 85,\n",
       " 18,\n",
       " 27,\n",
       " 32,\n",
       " 75,\n",
       " 93,\n",
       " 83,\n",
       " 60,\n",
       " 88,\n",
       " 55,\n",
       " 88,\n",
       " 97,\n",
       " 86,\n",
       " 5,\n",
       " 54,\n",
       " 52,\n",
       " 43,\n",
       " 41,\n",
       " 79,\n",
       " 94,\n",
       " 93,\n",
       " 99,\n",
       " 72,\n",
       " 88,\n",
       " 5,\n",
       " 6,\n",
       " 87,\n",
       " 97,\n",
       " 43,\n",
       " 85,\n",
       " 16,\n",
       " 95,\n",
       " 41,\n",
       " 48,\n",
       " 71,\n",
       " 31,\n",
       " 44,\n",
       " 89,\n",
       " 57,\n",
       " 20]"
      ]
     },
     "execution_count": 29,
     "metadata": {},
     "output_type": "execute_result"
    }
   ],
   "source": [
    "# Your code here\n",
    "sample_list_1 = []\n",
    "for i in range(0, 80):\n",
    "    while len(set(sample_list_1)) < 80:\n",
    "        sample_list_1.append(random.randint(0, 101))\n",
    "    break\n",
    "sample_list_1"
   ]
  },
  {
   "cell_type": "markdown",
   "metadata": {},
   "source": [
    "#### Convert `sample_list_1` to a set called `set1`. Print the length of the set. Is its length still 80?"
   ]
  },
  {
   "cell_type": "code",
   "execution_count": 30,
   "metadata": {},
   "outputs": [
    {
     "data": {
      "text/plain": [
       "80"
      ]
     },
     "execution_count": 30,
     "metadata": {},
     "output_type": "execute_result"
    }
   ],
   "source": [
    "# Your code here\n",
    "set1 = set(sample_list_1)\n",
    "len(set1)"
   ]
  },
  {
   "cell_type": "markdown",
   "metadata": {},
   "source": [
    "#### Create another list named `sample_list_2` with 80 random values.\n",
    "\n",
    "Requirements:\n",
    "\n",
    "* Each value is an integer falling between 0 and 100.\n",
    "* The values in the list don't have to be unique.\n",
    "\n",
    "*Hint: Use a FOR loop.*"
   ]
  },
  {
   "cell_type": "code",
   "execution_count": 49,
   "metadata": {},
   "outputs": [
    {
     "data": {
      "text/plain": [
       "[33,\n",
       " 0,\n",
       " 37,\n",
       " 60,\n",
       " 89,\n",
       " 28,\n",
       " 86,\n",
       " 27,\n",
       " 52,\n",
       " 25,\n",
       " 85,\n",
       " 30,\n",
       " 62,\n",
       " 3,\n",
       " 80,\n",
       " 72,\n",
       " 89,\n",
       " 72,\n",
       " 100,\n",
       " 11,\n",
       " 8,\n",
       " 0,\n",
       " 93,\n",
       " 10,\n",
       " 26,\n",
       " 84,\n",
       " 13,\n",
       " 62,\n",
       " 66,\n",
       " 80,\n",
       " 9,\n",
       " 89,\n",
       " 84,\n",
       " 77,\n",
       " 21,\n",
       " 87,\n",
       " 90,\n",
       " 24,\n",
       " 54,\n",
       " 34,\n",
       " 31,\n",
       " 62,\n",
       " 71,\n",
       " 32,\n",
       " 87,\n",
       " 88,\n",
       " 92,\n",
       " 101,\n",
       " 100,\n",
       " 49,\n",
       " 0,\n",
       " 18,\n",
       " 34,\n",
       " 63,\n",
       " 55,\n",
       " 48,\n",
       " 74,\n",
       " 101,\n",
       " 90,\n",
       " 101,\n",
       " 45,\n",
       " 25,\n",
       " 26,\n",
       " 10,\n",
       " 13,\n",
       " 23,\n",
       " 87,\n",
       " 94,\n",
       " 89,\n",
       " 19,\n",
       " 76,\n",
       " 66,\n",
       " 100,\n",
       " 60,\n",
       " 40,\n",
       " 77,\n",
       " 34,\n",
       " 81,\n",
       " 97,\n",
       " 43]"
      ]
     },
     "execution_count": 49,
     "metadata": {},
     "output_type": "execute_result"
    }
   ],
   "source": [
    "# Your code here\n",
    "sample_list_2 = []\n",
    "for i in range(0, 80):\n",
    "    while len(sample_list_2) < 80:\n",
    "        sample_list_2.append(random.randint(0, 101))\n",
    "    break\n",
    "sample_list_2"
   ]
  },
  {
   "cell_type": "markdown",
   "metadata": {},
   "source": [
    "#### Convert `sample_list_2` to a set called `set2`. Print the length of the set. Is its length still 80?"
   ]
  },
  {
   "cell_type": "code",
   "execution_count": 50,
   "metadata": {},
   "outputs": [
    {
     "data": {
      "text/plain": [
       "54"
      ]
     },
     "execution_count": 50,
     "metadata": {},
     "output_type": "execute_result"
    }
   ],
   "source": [
    "# Your code here\n",
    "set2 = set(sample_list_2)\n",
    "len(set2)"
   ]
  },
  {
   "cell_type": "markdown",
   "metadata": {},
   "source": [
    "#### Identify the elements present in `set1` but not in `set2`. Assign the elements to a new set named `set3`."
   ]
  },
  {
   "cell_type": "code",
   "execution_count": 38,
   "metadata": {},
   "outputs": [],
   "source": [
    "# Your code here\n",
    "#option 1\n",
    "set3 = set()\n",
    "for item in set1:\n",
    "    if item not in set2:\n",
    "        set3.add(item)\n",
    "#option 2       \n",
    "set3 = set1 - set2\n",
    "#option3\n",
    "\n",
    "set3 = set1.difference(set2)"
   ]
  },
  {
   "cell_type": "markdown",
   "metadata": {},
   "source": [
    "#### Identify the elements present in `set2` but not in `set1`. Assign the elements to a new set named `set4`."
   ]
  },
  {
   "cell_type": "code",
   "execution_count": 39,
   "metadata": {},
   "outputs": [
    {
     "data": {
      "text/plain": [
       "14"
      ]
     },
     "execution_count": 39,
     "metadata": {},
     "output_type": "execute_result"
    }
   ],
   "source": [
    "# Your code here\n",
    "set4 = set2 - set1\n",
    "len(set4)"
   ]
  },
  {
   "cell_type": "markdown",
   "metadata": {},
   "source": [
    "#### Now Identify the elements shared between `set1` and `set2`. Assign the elements to a new set named `set5`."
   ]
  },
  {
   "cell_type": "code",
   "execution_count": 44,
   "metadata": {},
   "outputs": [
    {
     "data": {
      "text/plain": [
       "39"
      ]
     },
     "execution_count": 44,
     "metadata": {},
     "output_type": "execute_result"
    }
   ],
   "source": [
    "# Your code here\n",
    "set5 = set1.intersection(set2)\n",
    "len(set5)"
   ]
  },
  {
   "cell_type": "markdown",
   "metadata": {},
   "source": [
    "#### (Optional) What is the relationship among the following values:\n",
    "\n",
    "* len(set1)\n",
    "* len(set2)\n",
    "* len(set3)\n",
    "* len(set4)\n",
    "* len(set5)\n",
    "\n",
    "Use a formula to represent that relationship. Test your formula with Python code."
   ]
  },
  {
   "cell_type": "code",
   "execution_count": 48,
   "metadata": {},
   "outputs": [
    {
     "data": {
      "text/plain": [
       "94"
      ]
     },
     "execution_count": 48,
     "metadata": {},
     "output_type": "execute_result"
    }
   ],
   "source": [
    "# Your code here\n",
    "a = len(set1)\n",
    "b = len(set2)\n",
    "c = len(set3)\n",
    "d = len(set4)\n",
    "e = len(set5)\n",
    "a = c + d + e\n",
    "a"
   ]
  },
  {
   "cell_type": "markdown",
   "metadata": {},
   "source": [
    "#### Create an empty set called `set6`."
   ]
  },
  {
   "cell_type": "code",
   "execution_count": null,
   "metadata": {},
   "outputs": [],
   "source": [
    "# Your code here\n"
   ]
  },
  {
   "cell_type": "markdown",
   "metadata": {},
   "source": [
    "#### Add `set3` and `set5` to `set6` using the Python Set `update` method."
   ]
  },
  {
   "cell_type": "code",
   "execution_count": null,
   "metadata": {},
   "outputs": [],
   "source": [
    "# Your code here\n"
   ]
  },
  {
   "cell_type": "markdown",
   "metadata": {},
   "source": [
    "#### Check if `set1` and `set6` are equal."
   ]
  },
  {
   "cell_type": "code",
   "execution_count": null,
   "metadata": {},
   "outputs": [],
   "source": [
    "# Your code here\n"
   ]
  },
  {
   "cell_type": "markdown",
   "metadata": {},
   "source": [
    "#### Check if `set1` contains `set2` using the Python Set `issubset` method. Then check if `set1` contains `set3`.*"
   ]
  },
  {
   "cell_type": "code",
   "execution_count": null,
   "metadata": {},
   "outputs": [],
   "source": [
    "# Your code here\n"
   ]
  },
  {
   "cell_type": "markdown",
   "metadata": {},
   "source": [
    "#### Using the Python Set `union` method, aggregate `set3`, `set4`, and `set5`. Then aggregate `set1` and `set2`. \n",
    "\n",
    "#### Check if the aggregated values are equal."
   ]
  },
  {
   "cell_type": "code",
   "execution_count": null,
   "metadata": {},
   "outputs": [],
   "source": [
    "# Your code here\n"
   ]
  },
  {
   "cell_type": "markdown",
   "metadata": {},
   "source": [
    "#### Using the `pop` method, remove an element from `set1`."
   ]
  },
  {
   "cell_type": "code",
   "execution_count": null,
   "metadata": {},
   "outputs": [],
   "source": [
    "# Your code here\n"
   ]
  },
  {
   "cell_type": "markdown",
   "metadata": {},
   "source": [
    "#### Remove every element in the following list from `set1` if they are present in the set. Print the remaining elements.\n",
    "\n",
    "```\n",
    "list_to_remove = [1, 9, 11, 19, 21, 29, 31, 39, 41, 49, 51, 59, 61, 69, 71, 79, 81, 89, 91, 99]\n",
    "```"
   ]
  },
  {
   "cell_type": "code",
   "execution_count": null,
   "metadata": {},
   "outputs": [],
   "source": [
    "# Your code here\n"
   ]
  }
 ],
 "metadata": {
  "kernelspec": {
   "display_name": "Python 3 (ipykernel)",
   "language": "python",
   "name": "python3"
  },
  "language_info": {
   "codemirror_mode": {
    "name": "ipython",
    "version": 3
   },
   "file_extension": ".py",
   "mimetype": "text/x-python",
   "name": "python",
   "nbconvert_exporter": "python",
   "pygments_lexer": "ipython3",
   "version": "3.9.12"
  },
  "toc": {
   "base_numbering": 1,
   "nav_menu": {},
   "number_sections": false,
   "sideBar": true,
   "skip_h1_title": false,
   "title_cell": "Table of Contents",
   "title_sidebar": "Contents",
   "toc_cell": false,
   "toc_position": {},
   "toc_section_display": true,
   "toc_window_display": false
  }
 },
 "nbformat": 4,
 "nbformat_minor": 2
}
