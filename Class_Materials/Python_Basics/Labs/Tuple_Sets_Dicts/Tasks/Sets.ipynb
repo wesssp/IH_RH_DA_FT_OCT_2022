{
 "cells": [
  {
   "cell_type": "markdown",
   "metadata": {},
   "source": [
    "## Challenge 2: Sets\n",
    "\n",
    "There are a lot to learn about Python Sets and the information presented in the lesson is limited due to its length. To learn Python Sets in depth you are strongly encouraged to review the W3Schools tutorial on [Python Sets Examples and Methods](https://www.w3schools.com/python/python_sets.asp) before you work on this lab. Some difficult questions in this lab have their solutions in the W3Schools tutorial.\n",
    "\n",
    "#### First, import the Python `random` libary"
   ]
  },
  {
   "cell_type": "code",
   "execution_count": 51,
   "metadata": {},
   "outputs": [],
   "source": [
    "import random"
   ]
  },
  {
   "cell_type": "markdown",
   "metadata": {},
   "source": [
    "#### In the cell below, create a list named `sample_list_1` with 80 random values. \n",
    "\n",
    "Requirements:\n",
    "\n",
    "* Each value is an integer falling between 0 and 100.\n",
    "* Each value in the list is unique.\n",
    "\n",
    "Print `sample_list_1` to review its values\n",
    "\n",
    "*Hint: use `random.sample` ([reference](https://docs.python.org/3/library/random.html#random.sample)).*"
   ]
  },
  {
   "cell_type": "code",
   "execution_count": 52,
   "metadata": {},
   "outputs": [
    {
     "data": {
      "text/plain": [
       "[65,\n",
       " 47,\n",
       " 36,\n",
       " 89,\n",
       " 60,\n",
       " 67,\n",
       " 68,\n",
       " 46,\n",
       " 94,\n",
       " 69,\n",
       " 43,\n",
       " 100,\n",
       " 92,\n",
       " 92,\n",
       " 82,\n",
       " 3,\n",
       " 32,\n",
       " 39,\n",
       " 95,\n",
       " 8,\n",
       " 18,\n",
       " 48,\n",
       " 88,\n",
       " 11,\n",
       " 80,\n",
       " 4,\n",
       " 51,\n",
       " 69,\n",
       " 95,\n",
       " 4,\n",
       " 34,\n",
       " 30,\n",
       " 16,\n",
       " 19,\n",
       " 90,\n",
       " 57,\n",
       " 100,\n",
       " 59,\n",
       " 21,\n",
       " 56,\n",
       " 68,\n",
       " 55,\n",
       " 36,\n",
       " 72,\n",
       " 36,\n",
       " 4,\n",
       " 9,\n",
       " 76,\n",
       " 27,\n",
       " 50,\n",
       " 100,\n",
       " 95,\n",
       " 47,\n",
       " 63,\n",
       " 66,\n",
       " 52,\n",
       " 29,\n",
       " 63,\n",
       " 78,\n",
       " 19,\n",
       " 92,\n",
       " 1,\n",
       " 7,\n",
       " 67,\n",
       " 17,\n",
       " 43,\n",
       " 45,\n",
       " 39,\n",
       " 100,\n",
       " 23,\n",
       " 97,\n",
       " 85,\n",
       " 84,\n",
       " 97,\n",
       " 21,\n",
       " 90,\n",
       " 16,\n",
       " 92,\n",
       " 20,\n",
       " 84,\n",
       " 96,\n",
       " 81,\n",
       " 90,\n",
       " 1,\n",
       " 34,\n",
       " 81,\n",
       " 56,\n",
       " 65,\n",
       " 74,\n",
       " 90,\n",
       " 16,\n",
       " 18,\n",
       " 49,\n",
       " 1,\n",
       " 69,\n",
       " 23,\n",
       " 80,\n",
       " 75,\n",
       " 15,\n",
       " 31,\n",
       " 93,\n",
       " 0,\n",
       " 30,\n",
       " 8,\n",
       " 13,\n",
       " 11,\n",
       " 65,\n",
       " 8,\n",
       " 3,\n",
       " 80,\n",
       " 85,\n",
       " 47,\n",
       " 98,\n",
       " 64,\n",
       " 61,\n",
       " 100,\n",
       " 75,\n",
       " 85,\n",
       " 60,\n",
       " 54,\n",
       " 81,\n",
       " 96,\n",
       " 84,\n",
       " 33,\n",
       " 3,\n",
       " 46,\n",
       " 15,\n",
       " 16,\n",
       " 19,\n",
       " 76,\n",
       " 97,\n",
       " 31,\n",
       " 56,\n",
       " 89,\n",
       " 36,\n",
       " 47,\n",
       " 53,\n",
       " 100,\n",
       " 61,\n",
       " 40,\n",
       " 81,\n",
       " 70,\n",
       " 2,\n",
       " 57,\n",
       " 5,\n",
       " 93,\n",
       " 32,\n",
       " 74,\n",
       " 69,\n",
       " 30,\n",
       " 27,\n",
       " 19,\n",
       " 69,\n",
       " 44,\n",
       " 46,\n",
       " 19,\n",
       " 45,\n",
       " 26,\n",
       " 49,\n",
       " 52,\n",
       " 97,\n",
       " 85,\n",
       " 83,\n",
       " 26,\n",
       " 32,\n",
       " 98,\n",
       " 80,\n",
       " 40,\n",
       " 26,\n",
       " 95,\n",
       " 73,\n",
       " 48,\n",
       " 79]"
      ]
     },
     "execution_count": 52,
     "metadata": {},
     "output_type": "execute_result"
    }
   ],
   "source": [
    "# Your code here\n",
    "sample_list_1 = []\n",
    "for i in range(0, 80):\n",
    "    while len(set(sample_list_1)) < 80:\n",
    "        sample_list_1.append(random.randint(0, 101))\n",
    "    break\n",
    "sample_list_1"
   ]
  },
  {
   "cell_type": "markdown",
   "metadata": {},
   "source": [
    "#### Convert `sample_list_1` to a set called `set1`. Print the length of the set. Is its length still 80?"
   ]
  },
  {
   "cell_type": "code",
   "execution_count": 53,
   "metadata": {},
   "outputs": [
    {
     "data": {
      "text/plain": [
       "80"
      ]
     },
     "execution_count": 53,
     "metadata": {},
     "output_type": "execute_result"
    }
   ],
   "source": [
    "# Your code here\n",
    "set1 = set(sample_list_1)\n",
    "len(set1)"
   ]
  },
  {
   "cell_type": "markdown",
   "metadata": {},
   "source": [
    "#### Create another list named `sample_list_2` with 80 random values.\n",
    "\n",
    "Requirements:\n",
    "\n",
    "* Each value is an integer falling between 0 and 100.\n",
    "* The values in the list don't have to be unique.\n",
    "\n",
    "*Hint: Use a FOR loop.*"
   ]
  },
  {
   "cell_type": "code",
   "execution_count": 54,
   "metadata": {},
   "outputs": [
    {
     "data": {
      "text/plain": [
       "[35,\n",
       " 71,\n",
       " 49,\n",
       " 41,\n",
       " 83,\n",
       " 42,\n",
       " 31,\n",
       " 67,\n",
       " 65,\n",
       " 31,\n",
       " 76,\n",
       " 28,\n",
       " 100,\n",
       " 60,\n",
       " 70,\n",
       " 59,\n",
       " 57,\n",
       " 78,\n",
       " 16,\n",
       " 26,\n",
       " 49,\n",
       " 97,\n",
       " 20,\n",
       " 40,\n",
       " 24,\n",
       " 42,\n",
       " 44,\n",
       " 59,\n",
       " 26,\n",
       " 1,\n",
       " 48,\n",
       " 7,\n",
       " 97,\n",
       " 15,\n",
       " 84,\n",
       " 76,\n",
       " 45,\n",
       " 98,\n",
       " 95,\n",
       " 60,\n",
       " 18,\n",
       " 6,\n",
       " 28,\n",
       " 45,\n",
       " 6,\n",
       " 18,\n",
       " 76,\n",
       " 87,\n",
       " 94,\n",
       " 61,\n",
       " 86,\n",
       " 81,\n",
       " 6,\n",
       " 63,\n",
       " 86,\n",
       " 67,\n",
       " 36,\n",
       " 55,\n",
       " 11,\n",
       " 77,\n",
       " 18,\n",
       " 68,\n",
       " 92,\n",
       " 18,\n",
       " 37,\n",
       " 44,\n",
       " 11,\n",
       " 40,\n",
       " 11,\n",
       " 58,\n",
       " 43,\n",
       " 90,\n",
       " 22,\n",
       " 50,\n",
       " 0,\n",
       " 85,\n",
       " 41,\n",
       " 59,\n",
       " 91,\n",
       " 43]"
      ]
     },
     "execution_count": 54,
     "metadata": {},
     "output_type": "execute_result"
    }
   ],
   "source": [
    "# Your code here\n",
    "sample_list_2 = []\n",
    "for i in range(0, 80):\n",
    "    while len(sample_list_2) < 80:\n",
    "        sample_list_2.append(random.randint(0, 101))\n",
    "    break\n",
    "sample_list_2"
   ]
  },
  {
   "cell_type": "markdown",
   "metadata": {},
   "source": [
    "#### Convert `sample_list_2` to a set called `set2`. Print the length of the set. Is its length still 80?"
   ]
  },
  {
   "cell_type": "code",
   "execution_count": 55,
   "metadata": {},
   "outputs": [
    {
     "data": {
      "text/plain": [
       "55"
      ]
     },
     "execution_count": 55,
     "metadata": {},
     "output_type": "execute_result"
    }
   ],
   "source": [
    "# Your code here\n",
    "set2 = set(sample_list_2)\n",
    "len(set2)"
   ]
  },
  {
   "cell_type": "markdown",
   "metadata": {},
   "source": [
    "#### Identify the elements present in `set1` but not in `set2`. Assign the elements to a new set named `set3`."
   ]
  },
  {
   "cell_type": "code",
   "execution_count": 56,
   "metadata": {},
   "outputs": [],
   "source": [
    "# Your code here\n",
    "#option 1\n",
    "set3 = set()\n",
    "for item in set1:\n",
    "    if item not in set2:\n",
    "        set3.add(item)\n",
    "#option 2       \n",
    "set3 = set1 - set2\n",
    "#option3\n",
    "\n",
    "set3 = set1.difference(set2)"
   ]
  },
  {
   "cell_type": "markdown",
   "metadata": {},
   "source": [
    "#### Identify the elements present in `set2` but not in `set1`. Assign the elements to a new set named `set4`."
   ]
  },
  {
   "cell_type": "code",
   "execution_count": 57,
   "metadata": {},
   "outputs": [
    {
     "data": {
      "text/plain": [
       "14"
      ]
     },
     "execution_count": 57,
     "metadata": {},
     "output_type": "execute_result"
    }
   ],
   "source": [
    "# Your code here\n",
    "set4 = set2 - set1\n",
    "len(set4)"
   ]
  },
  {
   "cell_type": "markdown",
   "metadata": {},
   "source": [
    "#### Now Identify the elements shared between `set1` and `set2`. Assign the elements to a new set named `set5`."
   ]
  },
  {
   "cell_type": "code",
   "execution_count": 58,
   "metadata": {},
   "outputs": [
    {
     "data": {
      "text/plain": [
       "41"
      ]
     },
     "execution_count": 58,
     "metadata": {},
     "output_type": "execute_result"
    }
   ],
   "source": [
    "# Your code here\n",
    "set5 = set1.intersection(set2)\n",
    "len(set5)"
   ]
  },
  {
   "cell_type": "markdown",
   "metadata": {},
   "source": [
    "#### (Optional) What is the relationship among the following values:\n",
    "\n",
    "* len(set1)\n",
    "* len(set2)\n",
    "* len(set3)\n",
    "* len(set4)\n",
    "* len(set5)\n",
    "\n",
    "Use a formula to represent that relationship. Test your formula with Python code."
   ]
  },
  {
   "cell_type": "code",
   "execution_count": 70,
   "metadata": {},
   "outputs": [
    {
     "data": {
      "text/plain": [
       "True"
      ]
     },
     "execution_count": 70,
     "metadata": {},
     "output_type": "execute_result"
    }
   ],
   "source": [
    "# Your code here\n",
    "a = len(set1)\n",
    "b = len(set2)\n",
    "c = len(set3)\n",
    "d = len(set4)\n",
    "e = len(set5)\n",
    "a - (c + e) == b - (d + e)"
   ]
  },
  {
   "cell_type": "markdown",
   "metadata": {},
   "source": [
    "#### Create an empty set called `set6`."
   ]
  },
  {
   "cell_type": "code",
   "execution_count": 67,
   "metadata": {},
   "outputs": [],
   "source": [
    "# Your code here\n",
    "set6 = set()"
   ]
  },
  {
   "cell_type": "markdown",
   "metadata": {},
   "source": [
    "#### Add `set3` and `set5` to `set6` using the Python Set `update` method."
   ]
  },
  {
   "cell_type": "code",
   "execution_count": 68,
   "metadata": {},
   "outputs": [],
   "source": [
    "# Your code here\n",
    "set6.update(set3)\n",
    "set6.update(set5)"
   ]
  },
  {
   "cell_type": "markdown",
   "metadata": {},
   "source": [
    "#### Check if `set1` and `set6` are equal."
   ]
  },
  {
   "cell_type": "code",
   "execution_count": 69,
   "metadata": {},
   "outputs": [
    {
     "data": {
      "text/plain": [
       "True"
      ]
     },
     "execution_count": 69,
     "metadata": {},
     "output_type": "execute_result"
    }
   ],
   "source": [
    "# Your code here\n",
    "set1 == set6"
   ]
  },
  {
   "cell_type": "markdown",
   "metadata": {},
   "source": [
    "#### Check if `set1` contains `set2` using the Python Set `issubset` method. Then check if `set1` contains `set3`.*"
   ]
  },
  {
   "cell_type": "code",
   "execution_count": 72,
   "metadata": {},
   "outputs": [
    {
     "data": {
      "text/plain": [
       "True"
      ]
     },
     "execution_count": 72,
     "metadata": {},
     "output_type": "execute_result"
    }
   ],
   "source": [
    "# Your code here\n",
    "set3.issubset(set1)"
   ]
  },
  {
   "cell_type": "markdown",
   "metadata": {},
   "source": [
    "#### Using the Python Set `union` method, aggregate `set3`, `set4`, and `set5`. Then aggregate `set1` and `set2`. \n",
    "\n",
    "#### Check if the aggregated values are equal."
   ]
  },
  {
   "cell_type": "code",
   "execution_count": 73,
   "metadata": {},
   "outputs": [
    {
     "data": {
      "text/plain": [
       "True"
      ]
     },
     "execution_count": 73,
     "metadata": {},
     "output_type": "execute_result"
    }
   ],
   "source": [
    "# Your code here\n",
    "set3.union(set4, set5) == set1.union(set2)"
   ]
  },
  {
   "cell_type": "markdown",
   "metadata": {},
   "source": [
    "#### Using the `pop` method, remove an element from `set1`."
   ]
  },
  {
   "cell_type": "code",
   "execution_count": 85,
   "metadata": {},
   "outputs": [],
   "source": [
    "# Your code here\n",
    "q = set1.pop()\n"
   ]
  },
  {
   "cell_type": "markdown",
   "metadata": {},
   "source": [
    "#### Remove every element in the following list from `set1` if they are present in the set. Print the remaining elements.\n",
    "\n",
    "```\n",
    "list_to_remove = [1, 9, 11, 19, 21, 29, 31, 39, 41, 49, 51, 59, 61, 69, 71, 79, 81, 89, 91, 99]\n",
    "```"
   ]
  },
  {
   "cell_type": "code",
   "execution_count": 90,
   "metadata": {},
   "outputs": [
    {
     "name": "stdout",
     "output_type": "stream",
     "text": [
      "{4, 5, 7, 8, 13, 15, 16, 17, 18, 20, 23, 26, 27, 30, 32, 33, 34, 36, 40, 43, 44, 45, 46, 47, 48, 50, 52, 53, 54, 55, 56, 57, 60, 63, 64, 65, 66, 67, 68, 70, 72, 73, 74, 75, 76, 78, 80, 82, 83, 84, 85, 88, 90, 92, 93, 94, 95, 96, 97, 98, 100}\n"
     ]
    }
   ],
   "source": [
    "# Your code here\n",
    "list_to_remove = [1, 9, 11, 19, 21, 29, 31, 39, 41, 49, 51, 59, 61, 69, 71, 79, 81, 89, 91, 99]\n",
    "for item in list_to_remove:\n",
    "    if item in set1:\n",
    "        set1.discard(item)\n",
    "print(set1)"
   ]
  },
  {
   "cell_type": "code",
   "execution_count": 89,
   "metadata": {},
   "outputs": [
    {
     "data": {
      "text/plain": [
       "{4,\n",
       " 5,\n",
       " 7,\n",
       " 8,\n",
       " 13,\n",
       " 15,\n",
       " 16,\n",
       " 17,\n",
       " 18,\n",
       " 20,\n",
       " 23,\n",
       " 26,\n",
       " 27,\n",
       " 30,\n",
       " 32,\n",
       " 33,\n",
       " 34,\n",
       " 36,\n",
       " 39,\n",
       " 40,\n",
       " 43,\n",
       " 44,\n",
       " 45,\n",
       " 46,\n",
       " 47,\n",
       " 48,\n",
       " 49,\n",
       " 50,\n",
       " 51,\n",
       " 52,\n",
       " 53,\n",
       " 54,\n",
       " 55,\n",
       " 56,\n",
       " 57,\n",
       " 59,\n",
       " 60,\n",
       " 61,\n",
       " 63,\n",
       " 64,\n",
       " 65,\n",
       " 66,\n",
       " 67,\n",
       " 68,\n",
       " 69,\n",
       " 70,\n",
       " 72,\n",
       " 73,\n",
       " 74,\n",
       " 75,\n",
       " 76,\n",
       " 78,\n",
       " 79,\n",
       " 80,\n",
       " 81,\n",
       " 82,\n",
       " 83,\n",
       " 84,\n",
       " 85,\n",
       " 88,\n",
       " 89,\n",
       " 90,\n",
       " 92,\n",
       " 93,\n",
       " 94,\n",
       " 95,\n",
       " 96,\n",
       " 97,\n",
       " 98,\n",
       " 100}"
      ]
     },
     "execution_count": 89,
     "metadata": {},
     "output_type": "execute_result"
    }
   ],
   "source": [
    "set1"
   ]
  },
  {
   "cell_type": "code",
   "execution_count": null,
   "metadata": {},
   "outputs": [],
   "source": []
  }
 ],
 "metadata": {
  "kernelspec": {
   "display_name": "Python 3 (ipykernel)",
   "language": "python",
   "name": "python3"
  },
  "language_info": {
   "codemirror_mode": {
    "name": "ipython",
    "version": 3
   },
   "file_extension": ".py",
   "mimetype": "text/x-python",
   "name": "python",
   "nbconvert_exporter": "python",
   "pygments_lexer": "ipython3",
   "version": "3.9.12"
  },
  "toc": {
   "base_numbering": 1,
   "nav_menu": {},
   "number_sections": false,
   "sideBar": true,
   "skip_h1_title": false,
   "title_cell": "Table of Contents",
   "title_sidebar": "Contents",
   "toc_cell": false,
   "toc_position": {},
   "toc_section_display": true,
   "toc_window_display": false
  }
 },
 "nbformat": 4,
 "nbformat_minor": 2
}
